{
 "nbformat": 4,
 "nbformat_minor": 0,
 "metadata": {
  "colab": {
   "name": "Politycy",
   "provenance": [],
   "collapsed_sections": []
  },
  "kernelspec": {
   "name": "python3",
   "language": "python",
   "display_name": "Python 3"
  }
 },
 "cells": [
  {
   "cell_type": "code",
   "execution_count": 1,
   "outputs": [],
   "source": [
    "from selenium import webdriver\n",
    "import time\n",
    "import re\n",
    "from bs4 import BeautifulSoup\n",
    "import pandas as pd\n",
    "from twitter import *\n",
    "from typing import List\n",
    "import shutil\n",
    "import json\n",
    "from tqdm import tqdm\n",
    "\n",
    "import os\n",
    "from dotenv import load_dotenv\n",
    "load_dotenv()\n",
    "TOKEN = os.getenv(\"TOKEN\")\n",
    "TOKEN_SECRET = os.getenv(\"TOKEN_SECRET\")\n",
    "CONSUMER_KEY = os.getenv(\"CONSUMER_KEY\")\n",
    "CONSUMER_SECRET = os.getenv(\"CONSUMER_SECRET\")"
   ],
   "metadata": {
    "collapsed": false,
    "pycharm": {
     "name": "#%%\n"
    }
   }
  },
  {
   "cell_type": "code",
   "execution_count": 2,
   "outputs": [],
   "source": [
    "def get_driver():\n",
    "    # chrome_options = webdriver.ChromeOptions()\n",
    "    # chrome_options.add_argument('--headless')\n",
    "    # chrome_options.add_argument('--no-sandbox')\n",
    "    # chrome_options.add_argument('--disable-dev-shm-usage')\n",
    "    # wd = webdriver.Chrome('chromedriver', options=chrome_options)\n",
    "    options = webdriver.FirefoxOptions()\n",
    "    options.add_argument(\"--headless\")\n",
    "    wd = webdriver.Firefox(options=options)\n",
    "    return wd\n",
    "\n",
    "\n",
    "def get_coalition_links():\n",
    "    wd = get_driver()\n",
    "    wd.get(\"https://www.sejm.gov.pl/sejm9.nsf/kluby.xsp\")\n",
    "    links_soup = BeautifulSoup(wd.page_source, 'lxml')\n",
    "    coalition_links = [l['href'] for l in links_soup.find_all('a') if l['href'] is not None and \"klubposlowie\" in l['href']]\n",
    "    return coalition_links\n",
    "\n",
    "def get_coalition_politicians(coalition_link):\n",
    "    whole_link = \"https://www.sejm.gov.pl\" + coalition_link\n",
    "    wd = get_driver()\n",
    "    wd.get(whole_link)\n",
    "    soup = BeautifulSoup(wd.page_source, 'lxml')\n",
    "    people = [d.text for d in soup.find_all(\"div\", class_=\"deputyName\")]\n",
    "    return people"
   ],
   "metadata": {
    "collapsed": false,
    "pycharm": {
     "name": "#%%\n"
    }
   }
  },
  {
   "cell_type": "code",
   "metadata": {
    "id": "bCc9z4X7EjrU",
    "outputId": "8df8ac1a-8023-4de9-b6cc-364c20fde989",
    "colab": {
     "base_uri": "https://localhost:8080/"
    }
   },
   "source": [
    "coalition_links = get_coalition_links()\n",
    "coalition_links"
   ],
   "execution_count": 2,
   "outputs": [
    {
     "data": {
      "text/plain": "['/sejm9.nsf/klubposlowie.xsp?klub=PiS',\n '/sejm9.nsf/klubposlowie.xsp?klub=KO',\n '/sejm9.nsf/klubposlowie.xsp?klub=Lewica',\n '/sejm9.nsf/klubposlowie.xsp?klub=PSL-Kukiz15',\n '/sejm9.nsf/klubposlowie.xsp?klub=Konfederacja',\n '/sejm9.nsf/klubposlowie.xsp?klub=niez.']"
     },
     "execution_count": 2,
     "metadata": {},
     "output_type": "execute_result"
    }
   ]
  },
  {
   "cell_type": "code",
   "execution_count": 32,
   "outputs": [],
   "source": [
    "def get_possible_accounts(person_name: str, coalition_name: str, n_first=3) -> List:\n",
    "    twitter = Twitter(auth=OAuth(TOKEN, TOKEN_SECRET, CONSUMER_KEY, CONSUMER_SECRET))\n",
    "    results = twitter.users.search(q = person_name)\n",
    "    name = person_name.replace(' ', '_')\n",
    "    path = f\"users/{coalition_name}/{name}\"\n",
    "    if os.path.exists(path):\n",
    "        shutil.rmtree(path)\n",
    "    os.mkdir(path)\n",
    "    possible_accounts = []\n",
    "    for i, user in enumerate(results):\n",
    "        if i >= n_first:\n",
    "            break\n",
    "        possible_accounts.append((user['screen_name'], user['verified']))\n",
    "        with open(os.path.join(path, f\"{name}_{i}.json\"), \"w\", encoding='utf-8') as f:\n",
    "            json.dump(user, f, ensure_ascii=False)\n",
    "    return possible_accounts"
   ],
   "metadata": {
    "collapsed": false,
    "pycharm": {
     "name": "#%%\n"
    }
   }
  },
  {
   "cell_type": "code",
   "execution_count": 34,
   "outputs": [
    {
     "name": "stdout",
     "output_type": "stream",
     "text": [
      "PiS\n",
      "KO\n",
      "Lewica\n",
      "PSL-Kukiz15\n",
      "Konfederacja\n",
      "niez.\n"
     ]
    },
    {
     "name": "stderr",
     "output_type": "stream",
     "text": [
      "100%|██████████| 234/234 [01:07<00:00,  3.47it/s]\n",
      "100%|██████████| 134/134 [00:38<00:00,  3.49it/s]\n",
      "100%|██████████| 48/48 [00:14<00:00,  3.35it/s]\n",
      "100%|██████████| 30/30 [00:08<00:00,  3.44it/s]\n",
      "100%|██████████| 11/11 [00:03<00:00,  2.97it/s]\n",
      "100%|██████████| 2/2 [00:00<00:00,  3.30it/s]\n"
     ]
    },
    {
     "data": {
      "text/plain": "        coalition                      name  \\\n0             PiS          Adamczyk Andrzej   \n1             PiS       Andruszkiewicz Adam   \n2             PiS           Andzel Waldemar   \n3             PiS  Ardanowski Jan Krzysztof   \n4             PiS               Arent Iwona   \n..            ...                       ...   \n454  Konfederacja           Tuduj Krzysztof   \n455  Konfederacja           Urbaniak Michał   \n456  Konfederacja           Winnicki Robert   \n457         niez.             Galla Ryszard   \n458         niez.         Gill-Piątek Hanna   \n\n                                   acc_0  ver_0  \\\n0         https://twitter.com/AMAdamczyk  False   \n1    https://twitter.com/Andruszkiewicz1  False   \n2     https://twitter.com/AndzelWaldemar  False   \n3       https://twitter.com/jkardanowski  False   \n4         https://twitter.com/IwonaArent  False   \n..                                   ...    ...   \n454   https://twitter.com/TudujKrzysztof  False   \n455                                 None   None   \n456   https://twitter.com/RobertWinnicki  False   \n457    https://twitter.com/Ryszard_Galla  False   \n458  https://twitter.com/HannaGillPiatek  False   \n\n                                acc_1  ver_1  \\\n0     https://twitter.com/adamczyk89a  False   \n1     https://twitter.com/PopieramyAA  False   \n2                                None   None   \n3                                None   None   \n4     https://twitter.com/arent_iwona  False   \n..                                ...    ...   \n454        https://twitter.com/KTuduj  False   \n455                              None   None   \n456   https://twitter.com/BobWinnicki  False   \n457  https://twitter.com/GallaRyszard  False   \n458                              None   None   \n\n                                   acc_2  ver_2  \n0        https://twitter.com/Adamczyk___  False  \n1    https://twitter.com/MrDiamondGames4  False  \n2                                   None   None  \n3                                   None   None  \n4        https://twitter.com/iwona_arent  False  \n..                                   ...    ...  \n454                                 None   None  \n455                                 None   None  \n456  https://twitter.com/winnicki_robert  False  \n457     https://twitter.com/RyszardGalla  False  \n458                                 None   None  \n\n[459 rows x 8 columns]",
      "text/html": "<div>\n<style scoped>\n    .dataframe tbody tr th:only-of-type {\n        vertical-align: middle;\n    }\n\n    .dataframe tbody tr th {\n        vertical-align: top;\n    }\n\n    .dataframe thead th {\n        text-align: right;\n    }\n</style>\n<table border=\"1\" class=\"dataframe\">\n  <thead>\n    <tr style=\"text-align: right;\">\n      <th></th>\n      <th>coalition</th>\n      <th>name</th>\n      <th>acc_0</th>\n      <th>ver_0</th>\n      <th>acc_1</th>\n      <th>ver_1</th>\n      <th>acc_2</th>\n      <th>ver_2</th>\n    </tr>\n  </thead>\n  <tbody>\n    <tr>\n      <th>0</th>\n      <td>PiS</td>\n      <td>Adamczyk Andrzej</td>\n      <td>https://twitter.com/AMAdamczyk</td>\n      <td>False</td>\n      <td>https://twitter.com/adamczyk89a</td>\n      <td>False</td>\n      <td>https://twitter.com/Adamczyk___</td>\n      <td>False</td>\n    </tr>\n    <tr>\n      <th>1</th>\n      <td>PiS</td>\n      <td>Andruszkiewicz Adam</td>\n      <td>https://twitter.com/Andruszkiewicz1</td>\n      <td>False</td>\n      <td>https://twitter.com/PopieramyAA</td>\n      <td>False</td>\n      <td>https://twitter.com/MrDiamondGames4</td>\n      <td>False</td>\n    </tr>\n    <tr>\n      <th>2</th>\n      <td>PiS</td>\n      <td>Andzel Waldemar</td>\n      <td>https://twitter.com/AndzelWaldemar</td>\n      <td>False</td>\n      <td>None</td>\n      <td>None</td>\n      <td>None</td>\n      <td>None</td>\n    </tr>\n    <tr>\n      <th>3</th>\n      <td>PiS</td>\n      <td>Ardanowski Jan Krzysztof</td>\n      <td>https://twitter.com/jkardanowski</td>\n      <td>False</td>\n      <td>None</td>\n      <td>None</td>\n      <td>None</td>\n      <td>None</td>\n    </tr>\n    <tr>\n      <th>4</th>\n      <td>PiS</td>\n      <td>Arent Iwona</td>\n      <td>https://twitter.com/IwonaArent</td>\n      <td>False</td>\n      <td>https://twitter.com/arent_iwona</td>\n      <td>False</td>\n      <td>https://twitter.com/iwona_arent</td>\n      <td>False</td>\n    </tr>\n    <tr>\n      <th>...</th>\n      <td>...</td>\n      <td>...</td>\n      <td>...</td>\n      <td>...</td>\n      <td>...</td>\n      <td>...</td>\n      <td>...</td>\n      <td>...</td>\n    </tr>\n    <tr>\n      <th>454</th>\n      <td>Konfederacja</td>\n      <td>Tuduj Krzysztof</td>\n      <td>https://twitter.com/TudujKrzysztof</td>\n      <td>False</td>\n      <td>https://twitter.com/KTuduj</td>\n      <td>False</td>\n      <td>None</td>\n      <td>None</td>\n    </tr>\n    <tr>\n      <th>455</th>\n      <td>Konfederacja</td>\n      <td>Urbaniak Michał</td>\n      <td>None</td>\n      <td>None</td>\n      <td>None</td>\n      <td>None</td>\n      <td>None</td>\n      <td>None</td>\n    </tr>\n    <tr>\n      <th>456</th>\n      <td>Konfederacja</td>\n      <td>Winnicki Robert</td>\n      <td>https://twitter.com/RobertWinnicki</td>\n      <td>False</td>\n      <td>https://twitter.com/BobWinnicki</td>\n      <td>False</td>\n      <td>https://twitter.com/winnicki_robert</td>\n      <td>False</td>\n    </tr>\n    <tr>\n      <th>457</th>\n      <td>niez.</td>\n      <td>Galla Ryszard</td>\n      <td>https://twitter.com/Ryszard_Galla</td>\n      <td>False</td>\n      <td>https://twitter.com/GallaRyszard</td>\n      <td>False</td>\n      <td>https://twitter.com/RyszardGalla</td>\n      <td>False</td>\n    </tr>\n    <tr>\n      <th>458</th>\n      <td>niez.</td>\n      <td>Gill-Piątek Hanna</td>\n      <td>https://twitter.com/HannaGillPiatek</td>\n      <td>False</td>\n      <td>None</td>\n      <td>None</td>\n      <td>None</td>\n      <td>None</td>\n    </tr>\n  </tbody>\n</table>\n<p>459 rows × 8 columns</p>\n</div>"
     },
     "execution_count": 34,
     "metadata": {},
     "output_type": "execute_result"
    }
   ],
   "source": [
    "n_first = 3\n",
    "\n",
    "results = []\n",
    "base_href = \"https://twitter.com/\"\n",
    "\n",
    "for link in coalition_links:\n",
    "    coalition_name = link.split(\"=\")[-1]\n",
    "    print(coalition_name)\n",
    "    coalition_path = f\"users/{coalition_name}\"\n",
    "    if os.path.exists(coalition_path):\n",
    "        shutil.rmtree(coalition_path)\n",
    "    os.mkdir(coalition_path)\n",
    "    politicians = get_coalition_politicians(link)\n",
    "    for politician_name in tqdm(politicians):\n",
    "        possible_accounts = get_possible_accounts(politician_name, coalition_name, n_first)\n",
    "        possible_links = [(base_href + name, verified) for name, verified in possible_accounts]\n",
    "        data_flat = [item for t in possible_links for item in t]\n",
    "        res = (coalition_name, politician_name, *data_flat)\n",
    "        results.append(res)\n",
    "\n",
    "\n",
    "columns=[\"coalition\", \"name\"]\n",
    "for i in range(n_first):\n",
    "    columns.append(f\"acc_{i}\")\n",
    "    columns.append(f\"ver_{i}\")\n",
    "result_df = pd.DataFrame(results, columns=columns)\n",
    "result_df.to_csv(\"res.csv\", index=False)\n",
    "result_df"
   ],
   "metadata": {
    "collapsed": false,
    "pycharm": {
     "name": "#%%\n"
    }
   }
  }
 ]
}