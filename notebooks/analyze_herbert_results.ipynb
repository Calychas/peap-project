{
 "cells": [
  {
   "cell_type": "code",
   "execution_count": null,
   "metadata": {
    "collapsed": true
   },
   "outputs": [],
   "source": [
    "import os\n",
    "import pandas as pd\n",
    "import seaborn as sns\n",
    "import matplotlib.pyplot as plt\n",
    "import numpy as np"
   ]
  },
  {
   "cell_type": "code",
   "execution_count": null,
   "outputs": [],
   "source": [
    "path_to_herbert_results = os.path.join(\"..\",\"..\",\"reports\",\"sentiment_analysis\", \"herbert\")\n",
    "all_results = os.listdir(path_to_herbert_results)"
   ],
   "metadata": {
    "collapsed": false,
    "pycharm": {
     "name": "#%%\n"
    }
   }
  },
  {
   "cell_type": "code",
   "execution_count": null,
   "outputs": [],
   "source": [
    "\n",
    "def calculate_deltas(losses):\n",
    "    deltas = [losses[index] - losses[index-1] for index, value in enumerate(losses) if index != 0]\n",
    "    return deltas"
   ],
   "metadata": {
    "collapsed": false,
    "pycharm": {
     "name": "#%%\n"
    }
   }
  },
  {
   "cell_type": "code",
   "execution_count": null,
   "outputs": [],
   "source": [
    "all_dfs = []\n",
    "for result_path in all_results:\n",
    "    df = pd.read_csv(os.path.join(path_to_herbert_results, result_path))\n",
    "\n",
    "    if \"best\" in result_path:\n",
    "        continue\n",
    "\n",
    "\n",
    "    val_f1_scores = df['val_tweets_f_score']\n",
    "    val_losses = df['val_loss']\n",
    "\n",
    "    if val_f1_scores.iloc[-1] < 0.60:\n",
    "        continue\n",
    "    # if min(val_losses) > 0.95:\n",
    "    #     continue\n",
    "    # if sum(calculate_deltas(list(val_losses))) > 0.0:\n",
    "    #     continue\n",
    "\n",
    "    print(sum(calculate_deltas(list(val_losses))))\n",
    "\n",
    "    df['name'] = result_path\n",
    "\n",
    "    all_dfs.append(df[['epoch','val_tweets_f_score', \"val_loss\", \"name\"]])\n",
    "\n",
    "\n",
    "full_df = pd.concat(all_dfs)\n",
    "\n",
    "\n",
    "plt.figure(figsize=(20,10))\n",
    "sns.lineplot(data=full_df, x='epoch', y='val_tweets_f_score', hue='name')\n",
    "plt.show()"
   ],
   "metadata": {
    "collapsed": false,
    "pycharm": {
     "name": "#%%\n"
    }
   }
  },
  {
   "cell_type": "code",
   "execution_count": null,
   "outputs": [],
   "source": [
    "all_dfs = []\n",
    "for result_path in all_results:\n",
    "    df = pd.read_csv(os.path.join(path_to_herbert_results, result_path))\n",
    "\n",
    "    if \"best\" not in result_path:\n",
    "        continue\n",
    "\n",
    "    test_f1_scores = df['test_tweets_f_scores']\n",
    "    if max(test_f1_scores) < 0.54:\n",
    "        continue\n",
    "\n",
    "    val_f1_scores = df['test_tweets_f_scores']\n",
    "    val_losses = df['val_loss']\n",
    "\n",
    "    print(sum(calculate_deltas(list(val_losses))))\n",
    "\n",
    "    df['name'] = result_path\n",
    "\n",
    "    all_dfs.append(df[['epoch','test_tweets_f_scores', \"val_loss\", \"name\"]])\n",
    "\n",
    "\n",
    "full_df = pd.concat(all_dfs)\n",
    "\n",
    "\n",
    "plt.figure(figsize=(20,10))\n",
    "sns.lineplot(data=full_df, x='epoch', y='test_tweets_f_scores', hue='name')\n",
    "plt.show()"
   ],
   "metadata": {
    "collapsed": false,
    "pycharm": {
     "name": "#%%\n"
    }
   }
  }
 ],
 "metadata": {
  "kernelspec": {
   "display_name": "Python 3",
   "language": "python",
   "name": "python3"
  },
  "language_info": {
   "codemirror_mode": {
    "name": "ipython",
    "version": 2
   },
   "file_extension": ".py",
   "mimetype": "text/x-python",
   "name": "python",
   "nbconvert_exporter": "python",
   "pygments_lexer": "ipython2",
   "version": "2.7.6"
  }
 },
 "nbformat": 4,
 "nbformat_minor": 0
}