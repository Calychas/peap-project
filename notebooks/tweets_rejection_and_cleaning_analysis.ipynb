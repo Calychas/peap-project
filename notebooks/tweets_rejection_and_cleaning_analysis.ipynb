{
 "cells": [
  {
   "cell_type": "code",
   "execution_count": 31,
   "metadata": {},
   "outputs": [
    {
     "name": "stdout",
     "output_type": "stream",
     "text": [
      "The autoreload extension is already loaded. To reload it, use:\n",
      "  %reload_ext autoreload\n"
     ]
    }
   ],
   "source": [
    "%load_ext autoreload\n",
    "%autoreload 2"
   ]
  },
  {
   "cell_type": "code",
   "execution_count": 32,
   "metadata": {},
   "outputs": [],
   "source": [
    "import pandas as pd\n",
    "import numpy as np\n",
    "import src.data.utils as utils\n",
    "import os\n",
    "import plotly.express as px\n",
    "from tqdm.auto import tqdm\n",
    "import regex as re\n",
    "import plotly.io as pio\n",
    "pio.renderers.default=\"browser\""
   ]
  },
  {
   "cell_type": "code",
   "execution_count": 33,
   "metadata": {
    "tags": []
   },
   "outputs": [],
   "source": [
    "df = pd.read_pickle(os.path.join(\"datasets\", \"tweets.pkl.gz\"))"
   ]
  },
  {
   "cell_type": "code",
   "execution_count": 34,
   "metadata": {},
   "outputs": [
    {
     "name": "stdout",
     "output_type": "stream",
     "text": [
      "Index(['id', 'conversation_id', 'created_at', 'date', 'time', 'timezone',\n",
      "       'user_id', 'username', 'name', 'place', 'tweet', 'language', 'mentions',\n",
      "       'urls', 'photos', 'replies_count', 'retweets_count', 'likes_count',\n",
      "       'hashtags', 'cashtags', 'link', 'retweet', 'quote_url', 'video',\n",
      "       'thumbnail', 'near', 'geo', 'source', 'user_rt_id', 'user_rt',\n",
      "       'retweet_id', 'reply_to', 'retweet_date', 'translate', 'trans_src',\n",
      "       'trans_dest'],\n",
      "      dtype='object')\n",
      "(1659884, 36)\n"
     ]
    }
   ],
   "source": [
    "print(df.columns)\n",
    "print(df.shape)"
   ]
  },
  {
   "cell_type": "code",
   "execution_count": 35,
   "metadata": {},
   "outputs": [],
   "source": [
    "tqdm.pandas()"
   ]
  },
  {
   "cell_type": "code",
   "execution_count": 36,
   "metadata": {},
   "outputs": [
    {
     "name": "stderr",
     "output_type": "stream",
     "text": [
      "100%|██████████| 1659884/1659884 [00:01<00:00, 1075039.19it/s]\n"
     ]
    }
   ],
   "source": [
    "df[\"tweet_length\"] = df[\"tweet\"].progress_apply(len)"
   ]
  },
  {
   "cell_type": "code",
   "execution_count": 37,
   "metadata": {},
   "outputs": [
    {
     "name": "stdout",
     "output_type": "stream",
     "text": [
      "@PiS_WarmiaMazur @sobecka_anna @ASztandur @Cyntia_Harasim @ZChodowski @ajsyk23 @emilabogusz1958 @PiS_Pomorski @rem_tene @BitwaoPL @Karina_August @1973Buba @MrCichy84 @Jowita_W @clodin56 @KsiadzRobak_ @Jowita77732510 @29Joanna09 @PolskaKobieta @A_Pawlikowski @HGeeka @HonoriOjczyzna @Agapo59641184 @Sawek34797408 @jeste_samolotem @MaGuszka @Jolanta6Jolanta @MarekS98837118 @Maximus13305555 @SympatykPIS @Autolikos1 @AndreWisniewsk2 @JacekWronaCBS @distefano565 @Taplarski_Dziad @AsiaNietop @MatkaPolka_ @Elciapelciaba @ZlotPrawych @PeterLukomski @PiotrW1966 @tylko_prawda_ Bardzo dziękuję @PiS_WarmiaMazur za nominację.  Pozdrawiam wszystkich z całego serca ❤️🇵🇱 Nominuję @PiSOkreg5 @PawelKanas @chmielewski2020 @KamilKolata @JDebczynski @Krzysztof_91 @VukoviIrena1  #MaszerujemyOnline  #internetowymarszniepodległości  https://t.co/4Q2Pkd8kGe\n"
     ]
    }
   ],
   "source": [
    "print(df[df[\"tweet_length\"] == 842][\"tweet\"].values[0])"
   ]
  },
  {
   "cell_type": "code",
   "execution_count": 38,
   "metadata": {},
   "outputs": [],
   "source": [
    "language_counts = df.value_counts(\"language\").to_frame().reset_index().rename({0: \"count\"}, axis=1)\n",
    "fig = px.bar(language_counts, x=\"language\", y=\"count\", log_y=True, title=\"Log plot of language counts\")\n",
    "fig.show()"
   ]
  },
  {
   "cell_type": "code",
   "execution_count": 39,
   "metadata": {},
   "outputs": [
    {
     "name": "stdout",
     "output_type": "stream",
     "text": [
      "PL ratio to all: 90.795%\n"
     ]
    }
   ],
   "source": [
    "print(\"PL ratio to all:\", f'{(language_counts[language_counts[\"language\"] == \"pl\"][\"count\"].values[0] / language_counts[\"count\"].sum()):.3%}')"
   ]
  },
  {
   "cell_type": "code",
   "execution_count": 40,
   "metadata": {},
   "outputs": [],
   "source": [
    "und_language = df[df[\"language\"] == \"und\"][\"tweet\"]\n",
    "en_language = df[df[\"language\"] == \"en\"][\"tweet\"]"
   ]
  },
  {
   "cell_type": "code",
   "execution_count": 41,
   "metadata": {},
   "outputs": [],
   "source": [
    "df = df[df[\"language\"] == \"pl\"]"
   ]
  },
  {
   "cell_type": "code",
   "execution_count": 42,
   "metadata": {},
   "outputs": [],
   "source": [
    "def remove_content(text):\n",
    "    text = re.sub(r\"http\\S+\", \"\", text)\n",
    "    text = re.sub(r'\\S+\\.com\\S+','',text)\n",
    "    text = re.sub(r'\\@\\w+','',text)\n",
    "    text = re.sub(r'\\#','',text)\n",
    "    return text\n",
    "\n",
    "def process_text(text):\n",
    "    text = remove_content(text)\n",
    "    text = re.sub(r\"\\s+\", ' ', text)\n",
    "    return text"
   ]
  },
  {
   "cell_type": "code",
   "execution_count": 43,
   "metadata": {},
   "outputs": [
    {
     "name": "stderr",
     "output_type": "stream",
     "text": [
      "100%|██████████| 1507098/1507098 [00:38<00:00, 38657.16it/s]\n"
     ]
    }
   ],
   "source": [
    "df[\"tweet_preprocessed\"] = df[\"tweet\"].progress_apply(process_text)"
   ]
  },
  {
   "cell_type": "code",
   "execution_count": 44,
   "metadata": {},
   "outputs": [
    {
     "name": "stderr",
     "output_type": "stream",
     "text": [
      "100%|██████████| 1507098/1507098 [00:01<00:00, 1059552.41it/s]\n"
     ]
    }
   ],
   "source": [
    "df[\"tweet_length\"] = df[\"tweet_preprocessed\"].progress_apply(len)"
   ]
  },
  {
   "cell_type": "code",
   "execution_count": 45,
   "metadata": {},
   "outputs": [
    {
     "name": "stdout",
     "output_type": "stream",
     "text": [
      "Max tweet length: 296\n",
      "Mean tweet length: 101.8824781135666\n"
     ]
    }
   ],
   "source": [
    "print(\"Max tweet length:\", df[\"tweet_length\"].max())\n",
    "print(\"Mean tweet length:\", df[\"tweet_length\"].mean())"
   ]
  },
  {
   "cell_type": "code",
   "execution_count": 46,
   "metadata": {},
   "outputs": [],
   "source": [
    "fig = px.histogram(df, x=\"tweet_length\", nbins=100)\n",
    "fig.show()"
   ]
  },
  {
   "cell_type": "code",
   "execution_count": 47,
   "metadata": {},
   "outputs": [],
   "source": [
    "short_tweets = df[df[\"tweet_length\"] < 10][\"tweet_preprocessed\"].unique()"
   ]
  },
  {
   "cell_type": "code",
   "execution_count": 48,
   "metadata": {},
   "outputs": [],
   "source": [
    "df = df[df[\"tweet_length\"] >= 10]"
   ]
  },
  {
   "cell_type": "code",
   "execution_count": 49,
   "metadata": {},
   "outputs": [
    {
     "data": {
      "text/html": "<div>\n<style scoped>\n    .dataframe tbody tr th:only-of-type {\n        vertical-align: middle;\n    }\n\n    .dataframe tbody tr th {\n        vertical-align: top;\n    }\n\n    .dataframe thead th {\n        text-align: right;\n    }\n</style>\n<table border=\"1\" class=\"dataframe\">\n  <thead>\n    <tr style=\"text-align: right;\">\n      <th></th>\n      <th>id</th>\n    </tr>\n    <tr>\n      <th>username</th>\n      <th></th>\n    </tr>\n  </thead>\n  <tbody>\n    <tr>\n      <th>_mkonieczny</th>\n      <td>568</td>\n    </tr>\n    <tr>\n      <th>_piotrcwik</th>\n      <td>559</td>\n    </tr>\n    <tr>\n      <th>_urbaniakj</th>\n      <td>2589</td>\n    </tr>\n    <tr>\n      <th>a_betkowski</th>\n      <td>20</td>\n    </tr>\n    <tr>\n      <th>a_czartoryski</th>\n      <td>170</td>\n    </tr>\n    <tr>\n      <th>...</th>\n      <td>...</td>\n    </tr>\n    <tr>\n      <th>zdzkrasnodebski</th>\n      <td>12128</td>\n    </tr>\n    <tr>\n      <th>ziebadariusz</th>\n      <td>79</td>\n    </tr>\n    <tr>\n      <th>zielinskijaro</th>\n      <td>670</td>\n    </tr>\n    <tr>\n      <th>ziobropl</th>\n      <td>423</td>\n    </tr>\n    <tr>\n      <th>zofiaczernow</th>\n      <td>2030</td>\n    </tr>\n  </tbody>\n</table>\n<p>548 rows × 1 columns</p>\n</div>",
      "text/plain": "                    id\nusername              \n_mkonieczny        568\n_piotrcwik         559\n_urbaniakj        2589\na_betkowski         20\na_czartoryski      170\n...                ...\nzdzkrasnodebski  12128\nziebadariusz        79\nzielinskijaro      670\nziobropl           423\nzofiaczernow      2030\n\n[548 rows x 1 columns]"
     },
     "execution_count": 49,
     "metadata": {},
     "output_type": "execute_result"
    }
   ],
   "source": [
    "tweets_by_username_count = df.groupby(by=\"username\")[[\"id\"]].count()\n",
    "tweets_by_username_count"
   ]
  },
  {
   "cell_type": "code",
   "execution_count": 50,
   "metadata": {},
   "outputs": [
    {
     "data": {
      "text/html": "<div>\n<style scoped>\n    .dataframe tbody tr th:only-of-type {\n        vertical-align: middle;\n    }\n\n    .dataframe tbody tr th {\n        vertical-align: top;\n    }\n\n    .dataframe thead th {\n        text-align: right;\n    }\n</style>\n<table border=\"1\" class=\"dataframe\">\n  <thead>\n    <tr style=\"text-align: right;\">\n      <th></th>\n      <th>username</th>\n      <th>id</th>\n    </tr>\n  </thead>\n  <tbody>\n    <tr>\n      <th>0</th>\n      <td>andrzejszlachta</td>\n      <td>16</td>\n    </tr>\n    <tr>\n      <th>1</th>\n      <td>ewagaweda</td>\n      <td>1</td>\n    </tr>\n    <tr>\n      <th>2</th>\n      <td>grabczukk</td>\n      <td>6</td>\n    </tr>\n    <tr>\n      <th>3</th>\n      <td>grzegorzwojci16</td>\n      <td>13</td>\n    </tr>\n    <tr>\n      <th>4</th>\n      <td>katarzy48592111</td>\n      <td>3</td>\n    </tr>\n    <tr>\n      <th>5</th>\n      <td>katarzynaosos</td>\n      <td>19</td>\n    </tr>\n    <tr>\n      <th>6</th>\n      <td>kkubow</td>\n      <td>14</td>\n    </tr>\n    <tr>\n      <th>7</th>\n      <td>lawniczaktomek</td>\n      <td>18</td>\n    </tr>\n    <tr>\n      <th>8</th>\n      <td>radoslawrataj</td>\n      <td>11</td>\n    </tr>\n    <tr>\n      <th>9</th>\n      <td>teresawargocka</td>\n      <td>11</td>\n    </tr>\n  </tbody>\n</table>\n</div>",
      "text/plain": "          username  id\n0  andrzejszlachta  16\n1        ewagaweda   1\n2        grabczukk   6\n3  grzegorzwojci16  13\n4  katarzy48592111   3\n5    katarzynaosos  19\n6           kkubow  14\n7   lawniczaktomek  18\n8    radoslawrataj  11\n9   teresawargocka  11"
     },
     "execution_count": 50,
     "metadata": {},
     "output_type": "execute_result"
    }
   ],
   "source": [
    "users_to_drop = tweets_by_username_count[tweets_by_username_count[\"id\"] < 20].reset_index()\n",
    "users_to_drop"
   ]
  },
  {
   "cell_type": "code",
   "execution_count": 51,
   "metadata": {},
   "outputs": [
    {
     "data": {
      "text/html": "<div>\n<style scoped>\n    .dataframe tbody tr th:only-of-type {\n        vertical-align: middle;\n    }\n\n    .dataframe tbody tr th {\n        vertical-align: top;\n    }\n\n    .dataframe thead th {\n        text-align: right;\n    }\n</style>\n<table border=\"1\" class=\"dataframe\">\n  <thead>\n    <tr style=\"text-align: right;\">\n      <th></th>\n      <th>id</th>\n      <th>conversation_id</th>\n      <th>created_at</th>\n      <th>date</th>\n      <th>time</th>\n      <th>timezone</th>\n      <th>user_id</th>\n      <th>username</th>\n      <th>name</th>\n      <th>place</th>\n      <th>...</th>\n      <th>user_rt_id</th>\n      <th>user_rt</th>\n      <th>retweet_id</th>\n      <th>reply_to</th>\n      <th>retweet_date</th>\n      <th>translate</th>\n      <th>trans_src</th>\n      <th>trans_dest</th>\n      <th>tweet_length</th>\n      <th>tweet_preprocessed</th>\n    </tr>\n  </thead>\n  <tbody>\n    <tr>\n      <th>0</th>\n      <td>1330865505306087424</td>\n      <td>1330865505306087424</td>\n      <td>2020-11-23 14:27:17 CET</td>\n      <td>2020-11-23</td>\n      <td>14:27:17</td>\n      <td>100</td>\n      <td>879756935733682180</td>\n      <td>achybicka</td>\n      <td>Alicja Chybicka</td>\n      <td>NaN</td>\n      <td>...</td>\n      <td>NaN</td>\n      <td>NaN</td>\n      <td>NaN</td>\n      <td>[]</td>\n      <td>NaN</td>\n      <td>NaN</td>\n      <td>NaN</td>\n      <td>NaN</td>\n      <td>263</td>\n      <td>Środki finansowe z UE są nam bardzo potrzebne....</td>\n    </tr>\n    <tr>\n      <th>3</th>\n      <td>1324683520095256576</td>\n      <td>1324683520095256576</td>\n      <td>2020-11-06 13:02:17 CET</td>\n      <td>2020-11-06</td>\n      <td>13:02:17</td>\n      <td>100</td>\n      <td>879756935733682180</td>\n      <td>achybicka</td>\n      <td>Alicja Chybicka</td>\n      <td>NaN</td>\n      <td>...</td>\n      <td>NaN</td>\n      <td>NaN</td>\n      <td>NaN</td>\n      <td>[]</td>\n      <td>NaN</td>\n      <td>NaN</td>\n      <td>NaN</td>\n      <td>NaN</td>\n      <td>256</td>\n      <td>Konferencja prasowa z udziałem Parlamentarzyst...</td>\n    </tr>\n    <tr>\n      <th>5</th>\n      <td>1321458785555275776</td>\n      <td>1321458785555275776</td>\n      <td>2020-10-28 15:28:20 CET</td>\n      <td>2020-10-28</td>\n      <td>15:28:20</td>\n      <td>100</td>\n      <td>879756935733682180</td>\n      <td>achybicka</td>\n      <td>Alicja Chybicka</td>\n      <td>NaN</td>\n      <td>...</td>\n      <td>NaN</td>\n      <td>NaN</td>\n      <td>NaN</td>\n      <td>[]</td>\n      <td>NaN</td>\n      <td>NaN</td>\n      <td>NaN</td>\n      <td>NaN</td>\n      <td>49</td>\n      <td>Pytanie o dostępność szczepionek przeciwko grypie</td>\n    </tr>\n    <tr>\n      <th>6</th>\n      <td>1320780862158524416</td>\n      <td>1320780862158524416</td>\n      <td>2020-10-26 18:34:31 CET</td>\n      <td>2020-10-26</td>\n      <td>18:34:31</td>\n      <td>100</td>\n      <td>879756935733682180</td>\n      <td>achybicka</td>\n      <td>Alicja Chybicka</td>\n      <td>NaN</td>\n      <td>...</td>\n      <td>NaN</td>\n      <td>NaN</td>\n      <td>NaN</td>\n      <td>[]</td>\n      <td>NaN</td>\n      <td>NaN</td>\n      <td>NaN</td>\n      <td>NaN</td>\n      <td>16</td>\n      <td>Walka z COVID-19</td>\n    </tr>\n    <tr>\n      <th>8</th>\n      <td>1320768971696689153</td>\n      <td>1320768971696689153</td>\n      <td>2020-10-26 17:47:16 CET</td>\n      <td>2020-10-26</td>\n      <td>17:47:16</td>\n      <td>100</td>\n      <td>879756935733682180</td>\n      <td>achybicka</td>\n      <td>Alicja Chybicka</td>\n      <td>NaN</td>\n      <td>...</td>\n      <td>NaN</td>\n      <td>NaN</td>\n      <td>NaN</td>\n      <td>[]</td>\n      <td>NaN</td>\n      <td>NaN</td>\n      <td>NaN</td>\n      <td>NaN</td>\n      <td>17</td>\n      <td>Czekam na pytania</td>\n    </tr>\n    <tr>\n      <th>...</th>\n      <td>...</td>\n      <td>...</td>\n      <td>...</td>\n      <td>...</td>\n      <td>...</td>\n      <td>...</td>\n      <td>...</td>\n      <td>...</td>\n      <td>...</td>\n      <td>...</td>\n      <td>...</td>\n      <td>...</td>\n      <td>...</td>\n      <td>...</td>\n      <td>...</td>\n      <td>...</td>\n      <td>...</td>\n      <td>...</td>\n      <td>...</td>\n      <td>...</td>\n      <td>...</td>\n    </tr>\n    <tr>\n      <th>1659879</th>\n      <td>636616652034043906</td>\n      <td>636616652034043906</td>\n      <td>2015-08-26 21:10:12 CEST</td>\n      <td>2015-08-26</td>\n      <td>21:10:12</td>\n      <td>100</td>\n      <td>3437755967</td>\n      <td>_urbaniakj</td>\n      <td>Jarosław Urbaniak</td>\n      <td>NaN</td>\n      <td>...</td>\n      <td>NaN</td>\n      <td>NaN</td>\n      <td>NaN</td>\n      <td>[]</td>\n      <td>NaN</td>\n      <td>NaN</td>\n      <td>NaN</td>\n      <td>NaN</td>\n      <td>12</td>\n      <td>No właśnie.</td>\n    </tr>\n    <tr>\n      <th>1659880</th>\n      <td>636615744034340864</td>\n      <td>636615744034340864</td>\n      <td>2015-08-26 21:06:35 CEST</td>\n      <td>2015-08-26</td>\n      <td>21:06:35</td>\n      <td>100</td>\n      <td>3437755967</td>\n      <td>_urbaniakj</td>\n      <td>Jarosław Urbaniak</td>\n      <td>NaN</td>\n      <td>...</td>\n      <td>NaN</td>\n      <td>NaN</td>\n      <td>NaN</td>\n      <td>[]</td>\n      <td>NaN</td>\n      <td>NaN</td>\n      <td>NaN</td>\n      <td>NaN</td>\n      <td>98</td>\n      <td>Bardzo dobre informacje dl całej Południowej W...</td>\n    </tr>\n    <tr>\n      <th>1659881</th>\n      <td>636253338514903041</td>\n      <td>636253338514903041</td>\n      <td>2015-08-25 21:06:31 CEST</td>\n      <td>2015-08-25</td>\n      <td>21:06:31</td>\n      <td>100</td>\n      <td>3437755967</td>\n      <td>_urbaniakj</td>\n      <td>Jarosław Urbaniak</td>\n      <td>NaN</td>\n      <td>...</td>\n      <td>NaN</td>\n      <td>NaN</td>\n      <td>NaN</td>\n      <td>[]</td>\n      <td>NaN</td>\n      <td>NaN</td>\n      <td>NaN</td>\n      <td>NaN</td>\n      <td>78</td>\n      <td>Inwestycja LPR niezwykle potrzebna i ważna, dl...</td>\n    </tr>\n    <tr>\n      <th>1659882</th>\n      <td>636252520977952772</td>\n      <td>636252520977952772</td>\n      <td>2015-08-25 21:03:16 CEST</td>\n      <td>2015-08-25</td>\n      <td>21:03:16</td>\n      <td>100</td>\n      <td>3437755967</td>\n      <td>_urbaniakj</td>\n      <td>Jarosław Urbaniak</td>\n      <td>NaN</td>\n      <td>...</td>\n      <td>NaN</td>\n      <td>NaN</td>\n      <td>NaN</td>\n      <td>[]</td>\n      <td>NaN</td>\n      <td>NaN</td>\n      <td>NaN</td>\n      <td>NaN</td>\n      <td>116</td>\n      <td>Drodzy Państwo, dziś mija dokładnie 25 lat od ...</td>\n    </tr>\n    <tr>\n      <th>1659883</th>\n      <td>635828464067706881</td>\n      <td>635828464067706881</td>\n      <td>2015-08-24 16:58:13 CEST</td>\n      <td>2015-08-24</td>\n      <td>16:58:13</td>\n      <td>100</td>\n      <td>3437755967</td>\n      <td>_urbaniakj</td>\n      <td>Jarosław Urbaniak</td>\n      <td>NaN</td>\n      <td>...</td>\n      <td>NaN</td>\n      <td>NaN</td>\n      <td>NaN</td>\n      <td>[]</td>\n      <td>NaN</td>\n      <td>NaN</td>\n      <td>NaN</td>\n      <td>NaN</td>\n      <td>111</td>\n      <td>Bardzo dobra wiadomość. Trzeba pamiętać, że za...</td>\n    </tr>\n  </tbody>\n</table>\n<p>1490915 rows × 38 columns</p>\n</div>",
      "text/plain": "                          id      conversation_id                created_at  \\\n0        1330865505306087424  1330865505306087424   2020-11-23 14:27:17 CET   \n3        1324683520095256576  1324683520095256576   2020-11-06 13:02:17 CET   \n5        1321458785555275776  1321458785555275776   2020-10-28 15:28:20 CET   \n6        1320780862158524416  1320780862158524416   2020-10-26 18:34:31 CET   \n8        1320768971696689153  1320768971696689153   2020-10-26 17:47:16 CET   \n...                      ...                  ...                       ...   \n1659879   636616652034043906   636616652034043906  2015-08-26 21:10:12 CEST   \n1659880   636615744034340864   636615744034340864  2015-08-26 21:06:35 CEST   \n1659881   636253338514903041   636253338514903041  2015-08-25 21:06:31 CEST   \n1659882   636252520977952772   636252520977952772  2015-08-25 21:03:16 CEST   \n1659883   635828464067706881   635828464067706881  2015-08-24 16:58:13 CEST   \n\n               date      time  timezone             user_id    username  \\\n0        2020-11-23  14:27:17       100  879756935733682180   achybicka   \n3        2020-11-06  13:02:17       100  879756935733682180   achybicka   \n5        2020-10-28  15:28:20       100  879756935733682180   achybicka   \n6        2020-10-26  18:34:31       100  879756935733682180   achybicka   \n8        2020-10-26  17:47:16       100  879756935733682180   achybicka   \n...             ...       ...       ...                 ...         ...   \n1659879  2015-08-26  21:10:12       100          3437755967  _urbaniakj   \n1659880  2015-08-26  21:06:35       100          3437755967  _urbaniakj   \n1659881  2015-08-25  21:06:31       100          3437755967  _urbaniakj   \n1659882  2015-08-25  21:03:16       100          3437755967  _urbaniakj   \n1659883  2015-08-24  16:58:13       100          3437755967  _urbaniakj   \n\n                      name place  ... user_rt_id user_rt retweet_id reply_to  \\\n0          Alicja Chybicka   NaN  ...        NaN     NaN        NaN       []   \n3          Alicja Chybicka   NaN  ...        NaN     NaN        NaN       []   \n5          Alicja Chybicka   NaN  ...        NaN     NaN        NaN       []   \n6          Alicja Chybicka   NaN  ...        NaN     NaN        NaN       []   \n8          Alicja Chybicka   NaN  ...        NaN     NaN        NaN       []   \n...                    ...   ...  ...        ...     ...        ...      ...   \n1659879  Jarosław Urbaniak   NaN  ...        NaN     NaN        NaN       []   \n1659880  Jarosław Urbaniak   NaN  ...        NaN     NaN        NaN       []   \n1659881  Jarosław Urbaniak   NaN  ...        NaN     NaN        NaN       []   \n1659882  Jarosław Urbaniak   NaN  ...        NaN     NaN        NaN       []   \n1659883  Jarosław Urbaniak   NaN  ...        NaN     NaN        NaN       []   \n\n        retweet_date  translate  trans_src  trans_dest tweet_length  \\\n0                NaN        NaN        NaN         NaN          263   \n3                NaN        NaN        NaN         NaN          256   \n5                NaN        NaN        NaN         NaN           49   \n6                NaN        NaN        NaN         NaN           16   \n8                NaN        NaN        NaN         NaN           17   \n...              ...        ...        ...         ...          ...   \n1659879          NaN        NaN        NaN         NaN           12   \n1659880          NaN        NaN        NaN         NaN           98   \n1659881          NaN        NaN        NaN         NaN           78   \n1659882          NaN        NaN        NaN         NaN          116   \n1659883          NaN        NaN        NaN         NaN          111   \n\n                                        tweet_preprocessed  \n0        Środki finansowe z UE są nam bardzo potrzebne....  \n3        Konferencja prasowa z udziałem Parlamentarzyst...  \n5        Pytanie o dostępność szczepionek przeciwko grypie  \n6                                         Walka z COVID-19  \n8                                        Czekam na pytania  \n...                                                    ...  \n1659879                                       No właśnie.   \n1659880  Bardzo dobre informacje dl całej Południowej W...  \n1659881  Inwestycja LPR niezwykle potrzebna i ważna, dl...  \n1659882  Drodzy Państwo, dziś mija dokładnie 25 lat od ...  \n1659883  Bardzo dobra wiadomość. Trzeba pamiętać, że za...  \n\n[1490915 rows x 38 columns]"
     },
     "execution_count": 51,
     "metadata": {},
     "output_type": "execute_result"
    }
   ],
   "source": [
    "df[~df[\"username\"].isin(users_to_drop[\"username\"].to_list())]"
   ]
  },
  {
   "cell_type": "code",
   "execution_count": null,
   "metadata": {},
   "outputs": [],
   "source": []
  }
 ],
 "metadata": {
  "colab": {
   "collapsed_sections": [],
   "name": "Politycy",
   "provenance": []
  },
  "kernelspec": {
   "display_name": "Python 3",
   "language": "python",
   "name": "python3"
  },
  "language_info": {
   "codemirror_mode": {
    "name": "ipython",
    "version": 3
   },
   "file_extension": ".py",
   "mimetype": "text/x-python",
   "name": "python",
   "nbconvert_exporter": "python",
   "pygments_lexer": "ipython3",
   "version": "3.8.2-final"
  }
 },
 "nbformat": 4,
 "nbformat_minor": 0
}