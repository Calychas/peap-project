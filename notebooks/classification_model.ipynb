{
 "cells": [
  {
   "cell_type": "code",
   "execution_count": null,
   "metadata": {},
   "outputs": [],
   "source": [
    "import pandas as pd\n",
    "import os\n",
    "import numpy as np\n",
    "from sklearn.linear_model import LogisticRegression\n",
    "from sklearn.neighbors import KNeighborsClassifier\n",
    "from sklearn.tree import DecisionTreeClassifier\n",
    "from sklearn.metrics import f1_score\n",
    "from sklearn.svm import SVC\n",
    "from sklearn.preprocessing import OneHotEncoder, StandardScaler, MinMaxScaler\n",
    "from sklearn.model_selection import StratifiedKFold"
   ]
  },
  {
   "cell_type": "code",
   "execution_count": null,
   "metadata": {
    "pycharm": {
     "name": "#%%\n"
    }
   },
   "outputs": [],
   "source": [
    "embeddings_df = pd.read_csv(os.path.join(\"..\",\"datasets\", \"embeddings.csv\"))\n",
    "accounts_df = pd.read_csv(os.path.join(\"..\",\"datasets\", \"accounts_processed.csv\"))"
   ]
  },
  {
   "cell_type": "code",
   "execution_count": null,
   "metadata": {
    "pycharm": {
     "name": "#%%\n"
    }
   },
   "outputs": [],
   "source": [
    "accounts_df.head(5)\n",
    "accounts_df['username'] = accounts_df['username'].apply(lambda s: s.lower())"
   ]
  },
  {
   "cell_type": "code",
   "execution_count": null,
   "metadata": {
    "pycharm": {
     "name": "#%%\n"
    }
   },
   "outputs": [],
   "source": [
    "embeddings_df.head(5)"
   ]
  },
  {
   "cell_type": "code",
   "execution_count": null,
   "metadata": {
    "pycharm": {
     "name": "#%%\n"
    }
   },
   "outputs": [],
   "source": [
    "embeddings_df['username'] = embeddings_df['username'].astype(object)"
   ]
  },
  {
   "cell_type": "code",
   "execution_count": null,
   "metadata": {
    "pycharm": {
     "name": "#%%\n"
    }
   },
   "outputs": [],
   "source": [
    "full_df = pd.merge(embeddings_df, accounts_df, on='username', how='inner')"
   ]
  },
  {
   "cell_type": "code",
   "execution_count": null,
   "metadata": {
    "pycharm": {
     "name": "#%%\n"
    }
   },
   "outputs": [],
   "source": [
    "embeddings_df.count()"
   ]
  },
  {
   "cell_type": "code",
   "execution_count": null,
   "metadata": {
    "pycharm": {
     "name": "#%%\n"
    }
   },
   "outputs": [],
   "source": [
    "full_df.count()\n"
   ]
  },
  {
   "cell_type": "code",
   "execution_count": null,
   "metadata": {
    "pycharm": {
     "name": "#%%\n"
    }
   },
   "outputs": [],
   "source": [
    "full_df['username'].value_counts() >1\n"
   ]
  },
  {
   "cell_type": "code",
   "execution_count": null,
   "metadata": {
    "pycharm": {
     "name": "#%%\n"
    }
   },
   "outputs": [],
   "source": [
    "full_df[full_df['username'] == 'z_frankiewicz']\n"
   ]
  },
  {
   "cell_type": "code",
   "execution_count": null,
   "metadata": {
    "pycharm": {
     "name": "#%%\n"
    }
   },
   "outputs": [],
   "source": [
    "index_to_be_deleted = 545"
   ]
  },
  {
   "cell_type": "code",
   "execution_count": null,
   "metadata": {
    "pycharm": {
     "name": "#%%\n"
    }
   },
   "outputs": [],
   "source": [
    "full_df = full_df.drop(545)\n"
   ]
  },
  {
   "cell_type": "code",
   "execution_count": null,
   "metadata": {
    "pycharm": {
     "name": "#%%\n"
    }
   },
   "outputs": [],
   "source": [
    "full_df.count()"
   ]
  },
  {
   "cell_type": "code",
   "execution_count": null,
   "metadata": {
    "pycharm": {
     "name": "#%%\n"
    }
   },
   "outputs": [],
   "source": [
    "df_to_training = full_df[['embedding','username', 'pozycja', 'coalition', 'party']]"
   ]
  },
  {
   "cell_type": "code",
   "execution_count": null,
   "metadata": {
    "pycharm": {
     "name": "#%%\n"
    }
   },
   "outputs": [],
   "source": [
    "df_to_training['coalition'].value_counts()"
   ]
  },
  {
   "cell_type": "code",
   "execution_count": null,
   "metadata": {
    "pycharm": {
     "name": "#%%\n"
    }
   },
   "outputs": [],
   "source": [
    "df_to_training['party'].value_counts()"
   ]
  },
  {
   "cell_type": "code",
   "execution_count": null,
   "metadata": {
    "pycharm": {
     "name": "#%%\n"
    }
   },
   "outputs": [],
   "source": [
    "df_to_training['pozycja'].value_counts()"
   ]
  },
  {
   "cell_type": "code",
   "execution_count": null,
   "metadata": {
    "pycharm": {
     "name": "#%%\n"
    }
   },
   "outputs": [],
   "source": [
    "embedding_size = 768"
   ]
  },
  {
   "cell_type": "code",
   "execution_count": null,
   "metadata": {
    "pycharm": {
     "name": "#%%\n"
    }
   },
   "outputs": [],
   "source": [
    "party_labels = df_to_training['party']\n",
    "coalition_labels = df_to_training['coalition']\n",
    "position_labels = df_to_training['pozycja']\n",
    "parties_number_of_classes = len(party_labels.unique())\n",
    "coalitions_number_of_classes = len(coalition_labels.unique())\n",
    "positions_number_of_classes = len(position_labels.unique())\n",
    "\n",
    "party_labels = party_labels.to_numpy()\n",
    "coalition_labels = coalition_labels.to_numpy()\n",
    "position_labels = position_labels.to_numpy()\n",
    "\n",
    "party_encoder = OneHotEncoder(handle_unknown='ignore')\n",
    "party_encoded = party_encoder.fit_transform(party_labels.reshape(-1,1)).toarray()\n",
    "\n",
    "coalition_encoder = OneHotEncoder(handle_unknown='ignore')\n",
    "coalition_encoded = coalition_encoder.fit_transform(coalition_labels.reshape(-1,1)).toarray()\n",
    "\n",
    "position_encoder = OneHotEncoder(handle_unknown='ignore')\n",
    "position_encoded = position_encoder.fit_transform(position_labels.reshape(-1,1)).toarray()\n"
   ]
  },
  {
   "cell_type": "code",
   "execution_count": null,
   "metadata": {
    "pycharm": {
     "name": "#%%\n"
    }
   },
   "outputs": [],
   "source": [
    "features = df_to_training['embedding']\n",
    "features = list(features)\n",
    "features = [np.fromstring(embedding[1:-1].replace(\"\\n\",\"\"), count=embedding_size, sep=\" \") for embedding in features]\n",
    "features = np.array(features)"
   ]
  },
  {
   "cell_type": "code",
   "execution_count": null,
   "metadata": {
    "pycharm": {
     "name": "#%%\n"
    }
   },
   "outputs": [],
   "source": [
    "scaler = StandardScaler().fit(features)\n",
    "features_scaled = scaler.transform(features)\n",
    "\n",
    "minmax_scaler = MinMaxScaler().fit(features)\n",
    "features_min_max = minmax_scaler.transform(features)"
   ]
  },
  {
   "cell_type": "code",
   "execution_count": null,
   "metadata": {
    "pycharm": {
     "name": "#%%\n"
    }
   },
   "outputs": [],
   "source": [
    "label_names =[]\n",
    "train_f1_scores =[]\n",
    "val_f1_scores = []\n",
    "features_names = []\n",
    "neighbours_list =[]\n",
    "weights_list = []\n",
    "distance_list = []\n",
    "\n",
    "for l, encoder, labels_name in [(coalition_labels, coalition_encoder, \"coalitions\"),\n",
    "                   (party_labels, party_encoder, \"parties\"),\n",
    "                   (position_labels, position_encoder, \"positions\")]:\n",
    "    for name, feature in [(\"scaled\", features_scaled),\n",
    "                          (\"original\", features),\n",
    "                          (\"minmax\", features_min_max)]:\n",
    "        for neighbors in [5,10,20,30,40,50]:\n",
    "            for weights in ['uniform', 'distance']:\n",
    "                for distance in ['euclidean', 'manhattan', 'chebyshev', 'minkowski']:\n",
    "                    svm = KNeighborsClassifier(n_neighbors=neighbors, weights=weights, metric=distance)\n",
    "                    mean_train_f1_score, mean_val_f1_score = train_model_kfold(svm, 10, feature, l, encoder)\n",
    "                    print(f\"Training F1-score: {mean_train_f1_score}, validation F1-score: {mean_val_f1_score},\"\n",
    "                          f\"features - {name}, labels name - {labels_name}, n_neighbours={neighbors}, weights={weights}, distance={distance}\")\n",
    "                    label_names.append(labels_name)\n",
    "                    train_f1_scores.append(mean_train_f1_score)\n",
    "                    val_f1_scores.append(mean_val_f1_score)\n",
    "                    features_names.append(name)\n",
    "                    neighbours_list.append(neighbors)\n",
    "                    weights_list.append(weights)\n",
    "                    distance_list.append(distance)\n",
    "\n",
    "results = pd.DataFrame(data={\"label_name\": label_names,\n",
    "                             \"feature_type\": features_names,\n",
    "                             \"distance\": distance_list,\n",
    "                             \"n_neighbours\": neighbours_list,\n",
    "                             \"weights\": weights_list,\n",
    "                             \"train_f1_score\": train_f1_scores,\n",
    "                             \"val_f1_score\": val_f1_scores})\n",
    "\n",
    "results.to_csv(\n",
    "    os.path.join(PATH_TO_RESULTS, \"knn.csv\"),\n",
    "    index=False)"
   ]
  }
 ],
 "metadata": {
  "kernelspec": {
   "display_name": "Python 3",
   "language": "python",
   "name": "python3"
  },
  "language_info": {
   "codemirror_mode": {
    "name": "ipython",
    "version": 3
   },
   "file_extension": ".py",
   "mimetype": "text/x-python",
   "name": "python",
   "nbconvert_exporter": "python",
   "pygments_lexer": "ipython3",
   "version": "3.8.2"
  }
 },
 "nbformat": 4,
 "nbformat_minor": 1
}