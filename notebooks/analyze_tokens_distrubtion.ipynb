{
 "cells": [
  {
   "cell_type": "code",
   "execution_count": null,
   "metadata": {
    "collapsed": true
   },
   "outputs": [],
   "source": [
    "import pandas as pd\n",
    "import os\n",
    "import matplotlib.pyplot as plt\n",
    "from transformers import RobertaTokenizerFast, RobertaForMaskedLM"
   ]
  },
  {
   "cell_type": "code",
   "execution_count": null,
   "outputs": [],
   "source": [
    "tokenizer_name = \"allegro/herbert-klej-cased-tokenizer-v1\"\n",
    "embedder_model = \"allegro/herbert-klej-cased-v1\"\n",
    "\n",
    "tokenizer = RobertaTokenizerFast.from_pretrained(tokenizer_name)\n",
    "model = RobertaForMaskedLM.from_pretrained(embedder_model, return_dict=True)"
   ],
   "metadata": {
    "collapsed": false,
    "pycharm": {
     "name": "#%%\n"
    }
   }
  },
  {
   "cell_type": "code",
   "execution_count": null,
   "outputs": [],
   "source": [
    "df = pd.read_pickle(os.path.join(\"..\", \"datasets\", \"tweets_cleaned_emojied2text.pkl.gz\"))\n",
    "df['number_of_tokens'] = df['tweet'].apply(lambda tweet: len(tokenizer.encode(tweet)))\n",
    "# plt.savefig()"
   ],
   "metadata": {
    "collapsed": false,
    "pycharm": {
     "name": "#%%\n"
    }
   }
  },
  {
   "cell_type": "code",
   "execution_count": null,
   "outputs": [],
   "source": [
    "df['number_of_tokens'].plot(kind='hist', bins=200, figsize=(100, 40), xticks=range(0, 400, 5))\n",
    "plt.savefig(\"../reports/plots/herbert_tokens_distribution.png\")"
   ],
   "metadata": {
    "collapsed": false,
    "pycharm": {
     "name": "#%%\n"
    }
   }
  }
 ],
 "metadata": {
  "kernelspec": {
   "display_name": "Python 3",
   "language": "python",
   "name": "python3"
  },
  "language_info": {
   "codemirror_mode": {
    "name": "ipython",
    "version": 2
   },
   "file_extension": ".py",
   "mimetype": "text/x-python",
   "name": "python",
   "nbconvert_exporter": "python",
   "pygments_lexer": "ipython2",
   "version": "2.7.6"
  }
 },
 "nbformat": 4,
 "nbformat_minor": 0
}