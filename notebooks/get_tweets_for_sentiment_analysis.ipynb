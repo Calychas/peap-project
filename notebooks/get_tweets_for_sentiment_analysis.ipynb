{
 "cells": [
  {
   "cell_type": "code",
   "execution_count": 15,
   "metadata": {
    "collapsed": true
   },
   "outputs": [],
   "source": [
    "import pandas as pd\n",
    "import os\n",
    "import preprocessor as p\n",
    "import matplotlib.pyplot as plt\n",
    "import seaborn as sns\n",
    "p.set_options(p.OPT.URL, p.OPT.MENTION, p.OPT.RESERVED)"
   ]
  },
  {
   "cell_type": "code",
   "execution_count": 16,
   "outputs": [],
   "source": [
    "PATH_TO_TWEETS = \"../datasets/tweets\"\n",
    "PATH_TO_PLOTS = \"../reports/plots\""
   ],
   "metadata": {
    "collapsed": false,
    "pycharm": {
     "name": "#%%\n"
    }
   }
  },
  {
   "cell_type": "code",
   "execution_count": 12,
   "outputs": [
    {
     "name": "stderr",
     "output_type": "stream",
     "text": [
      "c:\\users\\filip\\pycharmprojects\\sma\\project-politician_embeddings_analysis\\venv\\lib\\site-packages\\IPython\\core\\interactiveshell.py:3146: DtypeWarning: Columns (9) have mixed types.Specify dtype option on import or set low_memory=False.\n",
      "  has_raised = await self.run_ast_nodes(code_ast.body, cell_name,\n",
      "c:\\users\\filip\\pycharmprojects\\sma\\project-politician_embeddings_analysis\\venv\\lib\\site-packages\\IPython\\core\\interactiveshell.py:3146: DtypeWarning: Columns (22) have mixed types.Specify dtype option on import or set low_memory=False.\n",
      "  has_raised = await self.run_ast_nodes(code_ast.body, cell_name,\n",
      "c:\\users\\filip\\pycharmprojects\\sma\\project-politician_embeddings_analysis\\venv\\lib\\site-packages\\IPython\\core\\interactiveshell.py:3146: DtypeWarning: Columns (9,22,24) have mixed types.Specify dtype option on import or set low_memory=False.\n",
      "  has_raised = await self.run_ast_nodes(code_ast.body, cell_name,\n",
      "c:\\users\\filip\\pycharmprojects\\sma\\project-politician_embeddings_analysis\\venv\\lib\\site-packages\\IPython\\core\\interactiveshell.py:3146: DtypeWarning: Columns (9,22) have mixed types.Specify dtype option on import or set low_memory=False.\n",
      "  has_raised = await self.run_ast_nodes(code_ast.body, cell_name,\n"
     ]
    }
   ],
   "source": [
    "to_join = []\n",
    "\n",
    "for filename in os.listdir(PATH_TO_TWEETS):\n",
    "    to_join.append(pd.read_csv(os.path.join(PATH_TO_TWEETS,filename)))\n",
    "\n",
    "all_tweets = pd.concat(to_join)"
   ],
   "metadata": {
    "collapsed": false,
    "pycharm": {
     "name": "#%%\n"
    }
   }
  },
  {
   "cell_type": "code",
   "execution_count": 17,
   "outputs": [],
   "source": [
    "get_length_func = lambda text: len(text)\n",
    "\n",
    "all_tweets['length'] = all_tweets['tweet'].apply(get_length_func)"
   ],
   "metadata": {
    "collapsed": false,
    "pycharm": {
     "name": "#%%\n"
    }
   }
  },
  {
   "cell_type": "code",
   "execution_count": 18,
   "outputs": [],
   "source": [
    "plt.figure(figsize=(12,12))\n",
    "plt.title(\"Length of tweets\")\n",
    "plt.xlabel(\"Length\")\n",
    "sns.histplot(all_tweets['length'], binwidth=50)\n",
    "plt.savefig(os.path.join(PATH_TO_PLOTS,f\"politician_tweets_length.png\"))\n",
    "plt.close()"
   ],
   "metadata": {
    "collapsed": false,
    "pycharm": {
     "name": "#%%\n"
    }
   }
  },
  {
   "cell_type": "code",
   "execution_count": 36,
   "outputs": [
    {
     "name": "stderr",
     "output_type": "stream",
     "text": [
      "c:\\users\\filip\\pycharmprojects\\sma\\project-politician_embeddings_analysis\\venv\\lib\\site-packages\\IPython\\core\\interactiveshell.py:3146: DtypeWarning: Columns (9) have mixed types.Specify dtype option on import or set low_memory=False.\n",
      "  has_raised = await self.run_ast_nodes(code_ast.body, cell_name,\n",
      "c:\\users\\filip\\pycharmprojects\\sma\\project-politician_embeddings_analysis\\venv\\lib\\site-packages\\IPython\\core\\interactiveshell.py:3146: DtypeWarning: Columns (22) have mixed types.Specify dtype option on import or set low_memory=False.\n",
      "  has_raised = await self.run_ast_nodes(code_ast.body, cell_name,\n",
      "c:\\users\\filip\\pycharmprojects\\sma\\project-politician_embeddings_analysis\\venv\\lib\\site-packages\\IPython\\core\\interactiveshell.py:3146: DtypeWarning: Columns (9,22,24) have mixed types.Specify dtype option on import or set low_memory=False.\n",
      "  has_raised = await self.run_ast_nodes(code_ast.body, cell_name,\n",
      "c:\\users\\filip\\pycharmprojects\\sma\\project-politician_embeddings_analysis\\venv\\lib\\site-packages\\IPython\\core\\interactiveshell.py:3146: DtypeWarning: Columns (9,22) have mixed types.Specify dtype option on import or set low_memory=False.\n",
      "  has_raised = await self.run_ast_nodes(code_ast.body, cell_name,\n"
     ]
    }
   ],
   "source": [
    "tweets_to_analyze = []\n",
    "\n",
    "for file in os.listdir(PATH_TO_TWEETS):\n",
    "    tweets_df = pd.read_csv(os.path.join(PATH_TO_TWEETS, file))\n",
    "    random_tweets = list(tweets_df.sample(n=2, random_state=42,replace=True)['tweet'])\n",
    "    for tweet in random_tweets:\n",
    "        random_tweet_from_user = p.clean(tweet)\n",
    "        if random_tweet_from_user is not None and random_tweet_from_user != \"\":\n",
    "            tweets_to_analyze.append(random_tweet_from_user)"
   ],
   "metadata": {
    "collapsed": false,
    "pycharm": {
     "name": "#%%\n"
    }
   }
  },
  {
   "cell_type": "code",
   "execution_count": 38,
   "outputs": [],
   "source": [
    "tweets_to_analyze_df = pd.DataFrame(data={\"text\": list(set(tweets_to_analyze))})\n",
    "tweets_to_analyze_df.to_csv(os.path.join(\"../datasets\", \"sentiment_data\", \"tweet_to_analyze_sentiment.csv\"), index=False)"
   ],
   "metadata": {
    "collapsed": false,
    "pycharm": {
     "name": "#%%\n"
    }
   }
  }
 ],
 "metadata": {
  "kernelspec": {
   "display_name": "Python 3",
   "language": "python",
   "name": "python3"
  },
  "language_info": {
   "codemirror_mode": {
    "name": "ipython",
    "version": 2
   },
   "file_extension": ".py",
   "mimetype": "text/x-python",
   "name": "python",
   "nbconvert_exporter": "python",
   "pygments_lexer": "ipython2",
   "version": "2.7.6"
  }
 },
 "nbformat": 4,
 "nbformat_minor": 0
}