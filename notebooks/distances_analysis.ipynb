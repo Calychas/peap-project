{
 "cells": [
  {
   "cell_type": "code",
   "execution_count": null,
   "metadata": {},
   "outputs": [],
   "source": [
    "import scipy\r\n",
    "import numpy as np\r\n",
    "from scipy.spatial.distance import directed_hausdorff\r\n",
    "from sklearn.metrics.pairwise import euclidean_distances, cosine_distances, pairwise_distances\r\n",
    "import src.data.utils as utils\r\n",
    "import os\r\n",
    "import pandas as pd\r\n",
    "\r\n",
    "def read_tweets(username: str):\r\n",
    "    return pd.read_csv(os.path.join(\"..\", \"datasets\", \"tweets\", f\"{username}.csv\"))\r\n",
    "\r\n",
    "def read_tweets_with_embeddings(embeddings_path: str):\r\n",
    "    embeddings_df = pd.read_pickle(embeddings_path)\r\n",
    "    username = embeddings_df.iloc[0][\"username\"]\r\n",
    "    tweets_df = read_tweets(username)\r\n",
    "    whole_df = pd.merge(embeddings_df, tweets_df, left_on=\"tweet_id\", right_on=\"id\")\r\n",
    "    if len(whole_df) != len(embeddings_df):\r\n",
    "        print(username)\r\n",
    "    return username, whole_df\r\n"
   ]
  },
  {
   "cell_type": "code",
   "execution_count": null,
   "metadata": {},
   "outputs": [],
   "source": [
    "embeddings = utils.list_full_paths(os.path.join(\"..\", \"datasets\", \"embeddings\"))\r\n",
    "\r\n",
    "all_embeddings = pd.concat(list(map(lambda path: pd.read_pickle(path), embeddings)))"
   ]
  },
  {
   "cell_type": "code",
   "execution_count": null,
   "metadata": {},
   "outputs": [],
   "source": [
    "tweets_with_embeddings_dfs = {}\r\n",
    "\r\n",
    "for path in embeddings:\r\n",
    "    username, whole_df = read_tweets_with_embeddings(path)\r\n",
    "    tweets_with_embeddings_dfs[username] = whole_df"
   ]
  },
  {
   "cell_type": "code",
   "execution_count": null,
   "metadata": {},
   "outputs": [],
   "source": [
    "from src.data.utils import read_embeddings_dataframe\r\n",
    "users_embeddings_df = read_embeddings_dataframe(os.path.join(\"..\", \"datasets\", \"embeddings.csv\"))"
   ]
  },
  {
   "cell_type": "code",
   "execution_count": null,
   "metadata": {},
   "outputs": [],
   "source": [
    "def get_embeddings_array(df):\r\n",
    "    return np.array(df[\"tweet_embedding\"].to_list())\r\n",
    "\r\n",
    "def explain_closeness(first_username: str, second_username: str):\r\n",
    "    first_user_df = tweets_with_embeddings_dfs[first_username]\r\n",
    "    second_user_df = tweets_with_embeddings_dfs[second_username]\r\n",
    "    first_np = get_embeddings_array(first_user_df)\r\n",
    "    second_np = get_embeddings_array(second_user_df)\r\n",
    "\r\n",
    "    first_user_embedding = users_embeddings_df[users_embeddings_df[\"username\"] == first_username][\"embedding\"].values[0]\r\n",
    "    second_user_embedding = users_embeddings_df[users_embeddings_df[\"username\"] == second_username][\"embedding\"].values[0]\r\n",
    "\r\n",
    "\r\n",
    "    def get_tweet_and_similar_tweets(user_tweet_embeddings: np.array, another_user_embedding: np.array, another_user_tweet_embeddings: np.array,\r\n",
    "        user_df, another_user_df):\r\n",
    "        if len(another_user_embedding.shape) < 2:\r\n",
    "            another_user_embedding = another_user_embedding[None, :]\r\n",
    "\r\n",
    "        distances = euclidean_distances(user_tweet_embeddings, another_user_embedding).squeeze()\r\n",
    "        closest_tweets_indices = np.argsort(distances)[:20]\r\n",
    "        closest_tweets = user_df.iloc[closest_tweets_indices][\"tweet\"].tolist()\r\n",
    "        closest_tweets_embeddings = user_tweet_embeddings[closest_tweets_indices, :]\r\n",
    "\r\n",
    "        another_user_closest_tweets_distances = euclidean_distances(closest_tweets_embeddings, another_user_tweet_embeddings)\r\n",
    "        another_user_closest_tweets_indices = np.argsort(another_user_closest_tweets_distances, axis=1)[:, 0].reshape(-1)\r\n",
    "\r\n",
    "        another_user_closest_tweets = another_user_df.iloc[another_user_closest_tweets_indices][\"tweet\"].to_list()\r\n",
    "\r\n",
    "        return closest_tweets, another_user_closest_tweets \r\n",
    "\r\n",
    "    first_user_tweet_closest_to_second, similar_second_user_tweets = get_tweet_and_similar_tweets(first_np, second_user_embedding, second_np, first_user_df, second_user_df)\r\n",
    "    second_user_tweet_closest_to_first, similar_first_user_tweets = get_tweet_and_similar_tweets(second_np, first_user_embedding, first_np, second_user_df, first_user_df)\r\n",
    "\r\n",
    "    return first_user_tweet_closest_to_second, similar_second_user_tweets, second_user_tweet_closest_to_first, similar_first_user_tweets\r\n",
    "\r\n",
    "\r\n",
    "def get_closest_tweet_pairs(first_username: str, second_username: str, n_pairs=50, metric='euclidean'):\r\n",
    "    first_user_df = tweets_with_embeddings_dfs[first_username]\r\n",
    "    second_user_df = tweets_with_embeddings_dfs[second_username]\r\n",
    "    first_np = get_embeddings_array(first_user_df)\r\n",
    "    second_np = get_embeddings_array(second_user_df)\r\n",
    "\r\n",
    "    distances = pairwise_distances(first_np, second_np, metric=metric)\r\n",
    "\r\n",
    "    distances_flat = distances.ravel()\r\n",
    "    first_user_indices, second_user_indices = np.unravel_index(np.argsort(distances_flat), distances.shape)\r\n",
    "    first_user_indices, second_user_indices = first_user_indices[:n_pairs], second_user_indices[:n_pairs]\r\n",
    "\r\n",
    "    result_tweet_pairs = list(zip(first_user_df.iloc[first_user_indices][\"tweet\"].to_list(), second_user_df.iloc[second_user_indices][\"tweet\"].to_list()))\r\n",
    "    return result_tweet_pairs\r\n",
    "\r\n",
    "    # print(distances.shape)\r\n",
    "\r\n",
    "    # smallest_distances_indices = np.argsort(distances, axis=1)[:, 0][:, None]\r\n",
    "    # smallest_pair_distances = distances[np.arange(distances.shape[0])[:, None], smallest_distances_indices]\r\n",
    "    # overall_smallest_distances_indices = np.argsort(smallest_pair_distances, axis=0)\r\n",
    "    # overall_smallest_distances = smallest_pair_distances[overall_smallest_distances_indices].squeeze()\r\n",
    "\r\n",
    "    # row_indices = \r\n",
    "\r\n"
   ]
  },
  {
   "cell_type": "code",
   "execution_count": null,
   "metadata": {},
   "outputs": [],
   "source": [
    "# explain_closeness(\"kulesza_pl\", \"klubnauer\")\r\n",
    "\r\n",
    "get_closest_tweet_pairs(\"kulesza_pl\", \"klubnauer\")"
   ]
  },
  {
   "cell_type": "code",
   "execution_count": null,
   "metadata": {},
   "outputs": [],
   "source": [
    "from tqdm import tqdm\r\n",
    "for i, vi in tqdm(enumerate(embeddings)):\r\n",
    "    for j, vj in enumerate(embeddings):\r\n",
    "        d, _, _ = directed_hausdorff(vi, vj)\r\n",
    "        distances[i, j] = d\r\n"
   ]
  },
  {
   "cell_type": "code",
   "execution_count": null,
   "metadata": {},
   "outputs": [],
   "source": [
    "df = pd.read_pickle(\"tweets.pkl.gz\")"
   ]
  },
  {
   "cell_type": "code",
   "execution_count": null,
   "metadata": {},
   "outputs": [],
   "source": [
    "embedding_array = np.array(all_embeddings[\"tweet_embedding\"].to_list())"
   ]
  },
  {
   "cell_type": "code",
   "execution_count": null,
   "metadata": {},
   "outputs": [],
   "source": [
    "from tqdm import tqdm\r\n",
    "n_closest_for_each = 5\r\n",
    "n_to_show = 20\r\n",
    "closest_tweets_indices = np.zeros((n_to_show, n_closest_for_each))\r\n",
    "\r\n",
    "for i, vector in tqdm(enumerate(embedding_array[:n_to_show, :])):\r\n",
    "    # distances = euclidean_distances(embedding_array, vector[None, :]).squeeze()\r\n",
    "    distances = cosine_distances(embedding_array, vector[None, :]).squeeze()\r\n",
    "    closest_indices = np.argsort(distances)[1:n_closest_for_each+1]\r\n",
    "    closest_tweets_indices[i, :] = closest_indices"
   ]
  },
  {
   "cell_type": "code",
   "execution_count": null,
   "metadata": {},
   "outputs": [],
   "source": [
    "anchor_tweet_ids = all_embeddings.iloc[:20].tweet_id.to_list()"
   ]
  },
  {
   "cell_type": "code",
   "execution_count": null,
   "metadata": {},
   "outputs": [],
   "source": [
    "closest_ids = np.array(all_embeddings.iloc[closest_tweets_indices.reshape(-1)].tweet_id.to_list())"
   ]
  },
  {
   "cell_type": "code",
   "execution_count": null,
   "metadata": {},
   "outputs": [],
   "source": [
    "closests_tweets = df.loc[df[\"id\"].isin(closest_ids)].tweet.to_numpy().reshape(-1, 5)"
   ]
  },
  {
   "cell_type": "code",
   "execution_count": null,
   "metadata": {},
   "outputs": [],
   "source": [
    "anchor_tweets = df.loc[df[\"id\"].isin(closest_ids)].tweet.to_numpy()"
   ]
  },
  {
   "cell_type": "code",
   "execution_count": null,
   "metadata": {},
   "outputs": [],
   "source": [
    "closest_ids = closest_ids.reshape(-1, 5)"
   ]
  },
  {
   "cell_type": "code",
   "execution_count": null,
   "metadata": {},
   "outputs": [],
   "source": [
    "for i in range(20):\r\n",
    "    print(df.loc[df[\"id\"] == anchor_tweet_ids[i]].tweet.values[0])\r\n",
    "    print(df.loc[df[\"id\"].isin(closest_ids[i, :])].tweet.values)"
   ]
  },
  {
   "cell_type": "code",
   "execution_count": null,
   "metadata": {},
   "outputs": [],
   "source": [
    "closests_tweets"
   ]
  },
  {
   "cell_type": "code",
   "execution_count": null,
   "metadata": {},
   "outputs": [],
   "source": []
  }
 ],
 "metadata": {
  "kernelspec": {
   "display_name": "Python 3",
   "language": "python",
   "name": "python3"
  },
  "language_info": {
   "codemirror_mode": {
    "name": "ipython",
    "version": 3
   },
   "file_extension": ".py",
   "mimetype": "text/x-python",
   "name": "python",
   "nbconvert_exporter": "python",
   "pygments_lexer": "ipython3",
   "version": "3.8.6"
  },
  "orig_nbformat": 2
 },
 "nbformat": 4,
 "nbformat_minor": 2
}