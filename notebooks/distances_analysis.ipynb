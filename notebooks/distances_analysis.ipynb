{
 "cells": [
  {
   "cell_type": "code",
   "execution_count": null,
   "metadata": {},
   "outputs": [],
   "source": [
    "import scipy\r\n",
    "import numpy as np\r\n",
    "from scipy.spatial.distance import directed_hausdorff\r\n",
    "from sklearn.metrics.pairwise import euclidean_distances, cosine_distances, pairwise_distances\r\n",
    "import src.data.utils as utils\r\n",
    "import os\r\n",
    "import pandas as pd\r\n",
    "\r\n",
    "def read_tweets(username: str):\r\n",
    "    return pd.read_csv(os.path.join(\"..\", \"datasets\", \"tweets\", f\"{username}.csv\"))\r\n",
    "\r\n",
    "def read_tweets_with_embeddings(embeddings_path: str):\r\n",
    "    embeddings_df = pd.read_pickle(embeddings_path)\r\n",
    "    username = embeddings_df.iloc[0][\"username\"]\r\n",
    "    tweets_df = read_tweets(username)\r\n",
    "    whole_df = pd.merge(embeddings_df, tweets_df, left_on=\"tweet_id\", right_on=\"id\")\r\n",
    "    if len(whole_df) != len(embeddings_df):\r\n",
    "        print(username)\r\n",
    "    return username, whole_df\r\n"
   ]
  },
  {
   "cell_type": "code",
   "execution_count": null,
   "metadata": {},
   "outputs": [],
   "source": [
    "# embeddings = utils.list_full_paths(os.path.join(\"..\", \"datasets\", \"embeddings\"))\r\n",
    "embeddings = utils.list_full_paths(os.path.join(\"embeddings_50_20\"))\r\n",
    "\r\n",
    "all_embeddings = pd.concat(list(map(lambda path: pd.read_pickle(path), embeddings)))"
   ]
  },
  {
   "cell_type": "code",
   "execution_count": null,
   "metadata": {},
   "outputs": [],
   "source": [
    "tweets_with_embeddings_dfs = {}\r\n",
    "\r\n",
    "for path in embeddings:\r\n",
    "    username, whole_df = read_tweets_with_embeddings(path)\r\n",
    "    tweets_with_embeddings_dfs[username] = whole_df"
   ]
  },
  {
   "cell_type": "code",
   "execution_count": null,
   "metadata": {},
   "outputs": [],
   "source": [
    "from src.data.utils import read_embeddings_dataframe\r\n",
    "users_embeddings_df = read_embeddings_dataframe(os.path.join(\"..\", \"datasets\", \"embeddings.csv\"))"
   ]
  },
  {
   "cell_type": "code",
   "execution_count": null,
   "metadata": {},
   "outputs": [],
   "source": [
    "def get_embeddings_array(df):\r\n",
    "    return np.array(df[\"tweet_embedding\"].to_list())\r\n",
    "\r\n",
    "def explain_closeness(first_username: str, second_username: str):\r\n",
    "    first_user_df = tweets_with_embeddings_dfs[first_username]\r\n",
    "    second_user_df = tweets_with_embeddings_dfs[second_username]\r\n",
    "    first_np = get_embeddings_array(first_user_df)\r\n",
    "    second_np = get_embeddings_array(second_user_df)\r\n",
    "\r\n",
    "    first_user_embedding = users_embeddings_df[users_embeddings_df[\"username\"] == first_username][\"embedding\"].values[0]\r\n",
    "    second_user_embedding = users_embeddings_df[users_embeddings_df[\"username\"] == second_username][\"embedding\"].values[0]\r\n",
    "\r\n",
    "\r\n",
    "    def get_tweet_and_similar_tweets(user_tweet_embeddings: np.array, another_user_embedding: np.array, another_user_tweet_embeddings: np.array,\r\n",
    "        user_df, another_user_df):\r\n",
    "        if len(another_user_embedding.shape) < 2:\r\n",
    "            another_user_embedding = another_user_embedding[None, :]\r\n",
    "\r\n",
    "        distances = euclidean_distances(user_tweet_embeddings, another_user_embedding).squeeze()\r\n",
    "        closest_tweets_indices = np.argsort(distances)[:20]\r\n",
    "        closest_tweets = user_df.iloc[closest_tweets_indices][\"tweet\"].tolist()\r\n",
    "        closest_tweets_embeddings = user_tweet_embeddings[closest_tweets_indices, :]\r\n",
    "\r\n",
    "        another_user_closest_tweets_distances = euclidean_distances(closest_tweets_embeddings, another_user_tweet_embeddings)\r\n",
    "        another_user_closest_tweets_indices = np.argsort(another_user_closest_tweets_distances, axis=1)[:, 0].reshape(-1)\r\n",
    "\r\n",
    "        another_user_closest_tweets = another_user_df.iloc[another_user_closest_tweets_indices][\"tweet\"].to_list()\r\n",
    "\r\n",
    "        return closest_tweets, another_user_closest_tweets \r\n",
    "\r\n",
    "    first_user_tweet_closest_to_second, similar_second_user_tweets = get_tweet_and_similar_tweets(first_np, second_user_embedding, second_np, first_user_df, second_user_df)\r\n",
    "    second_user_tweet_closest_to_first, similar_first_user_tweets = get_tweet_and_similar_tweets(second_np, first_user_embedding, first_np, second_user_df, first_user_df)\r\n",
    "\r\n",
    "    return first_user_tweet_closest_to_second, similar_second_user_tweets, second_user_tweet_closest_to_first, similar_first_user_tweets\r\n",
    "\r\n",
    "\r\n",
    "def get_closest_tweet_pairs(first_username: str, second_username: str, n_pairs=50, metric='euclidean'):\r\n",
    "    first_user_df = tweets_with_embeddings_dfs[first_username]\r\n",
    "    second_user_df = tweets_with_embeddings_dfs[second_username]\r\n",
    "    first_np = get_embeddings_array(first_user_df)\r\n",
    "    second_np = get_embeddings_array(second_user_df)\r\n",
    "\r\n",
    "    distances = pairwise_distances(first_np, second_np, metric=metric)\r\n",
    "\r\n",
    "    distances_flat = distances.ravel()\r\n",
    "    first_user_indices, second_user_indices = np.unravel_index(np.argsort(distances_flat), distances.shape)\r\n",
    "    first_user_indices, second_user_indices = first_user_indices[:n_pairs], second_user_indices[:n_pairs]\r\n",
    "\r\n",
    "    result_tweet_pairs = list(zip(first_user_df.iloc[first_user_indices][\"tweet\"].to_list(), second_user_df.iloc[second_user_indices][\"tweet\"].to_list()))\r\n",
    "    return result_tweet_pairs\r\n",
    "\r\n",
    "    # print(distances.shape)\r\n",
    "\r\n",
    "    # smallest_distances_indices = np.argsort(distances, axis=1)[:, 0][:, None]\r\n",
    "    # smallest_pair_distances = distances[np.arange(distances.shape[0])[:, None], smallest_distances_indices]\r\n",
    "    # overall_smallest_distances_indices = np.argsort(smallest_pair_distances, axis=0)\r\n",
    "    # overall_smallest_distances = smallest_pair_distances[overall_smallest_distances_indices].squeeze()\r\n",
    "\r\n",
    "    # row_indices = \r\n",
    "\r\n"
   ]
  },
  {
   "cell_type": "code",
   "execution_count": null,
   "metadata": {},
   "outputs": [],
   "source": [
    "# explain_closeness(\"kulesza_pl\", \"klubnauer\")\r\n",
    "\r\n",
    "get_closest_tweet_pairs(\"witkomarcin\", \"iwonaarent\")"
   ]
  },
  {
   "cell_type": "code",
   "execution_count": null,
   "metadata": {},
   "outputs": [],
   "source": [
    "from tqdm import tqdm\r\n",
    "for i, vi in tqdm(enumerate(embeddings)):\r\n",
    "    for j, vj in enumerate(embeddings):\r\n",
    "        d, _, _ = directed_hausdorff(vi, vj)\r\n",
    "        distances[i, j] = d\r\n"
   ]
  },
  {
   "cell_type": "code",
   "execution_count": 29,
   "metadata": {},
   "outputs": [],
   "source": [
    "df = pd.read_pickle(\"../datasets/tweets_cleaned.pkl.gz\")"
   ]
  },
  {
   "cell_type": "code",
   "execution_count": 30,
   "metadata": {},
   "outputs": [],
   "source": [
    "embedding_array = np.array(all_embeddings[\"tweet_embedding\"].to_list())"
   ]
  },
  {
   "cell_type": "code",
   "execution_count": 31,
   "metadata": {},
   "outputs": [
    {
     "name": "stderr",
     "output_type": "stream",
     "text": [
      "20it [00:35,  1.78s/it]\n"
     ]
    }
   ],
   "source": [
    "from tqdm import tqdm\r\n",
    "n_closest_for_each = 5\r\n",
    "n_to_show = 20\r\n",
    "closest_tweets_indices = np.zeros((n_to_show, n_closest_for_each))\r\n",
    "\r\n",
    "for i, vector in tqdm(enumerate(embedding_array[:n_to_show, :])):\r\n",
    "    # distances = euclidean_distances(embedding_array, vector[None, :]).squeeze()\r\n",
    "    distances = cosine_distances(embedding_array, vector[None, :]).squeeze()\r\n",
    "    closest_indices = np.argsort(distances)[1:n_closest_for_each+1]\r\n",
    "    closest_tweets_indices[i, :] = closest_indices"
   ]
  },
  {
   "cell_type": "code",
   "execution_count": 32,
   "metadata": {},
   "outputs": [],
   "source": [
    "anchor_tweet_ids = all_embeddings.iloc[:20].tweet_id.to_list()"
   ]
  },
  {
   "cell_type": "code",
   "execution_count": 33,
   "metadata": {},
   "outputs": [],
   "source": [
    "closest_ids = np.array(all_embeddings.iloc[closest_tweets_indices.reshape(-1)].tweet_id.to_list())"
   ]
  },
  {
   "cell_type": "code",
   "execution_count": 34,
   "metadata": {},
   "outputs": [],
   "source": [
    "closests_tweets = df.loc[df[\"id\"].isin(closest_ids)].tweet.to_numpy().reshape(-1, 5)"
   ]
  },
  {
   "cell_type": "code",
   "execution_count": 35,
   "metadata": {},
   "outputs": [],
   "source": [
    "anchor_tweets = df.loc[df[\"id\"].isin(closest_ids)].tweet.to_numpy()"
   ]
  },
  {
   "cell_type": "code",
   "execution_count": 36,
   "metadata": {},
   "outputs": [],
   "source": [
    "closest_ids = closest_ids.reshape(-1, 5)"
   ]
  },
  {
   "cell_type": "code",
   "execution_count": 37,
   "metadata": {},
   "outputs": [
    {
     "name": "stdout",
     "output_type": "stream",
     "text": [
      "Środki finansowe z UE są nam bardzo potrzebne. Najlepszym przykładem jest , który został wybudowany z tych funduszy. To również szczególny dzień dla personelu , ale również małych pacjentów z Kliniki „Przylądek Nadziei”, gdyż dzisiaj obchodzimy 5latPrzylądka 🎉🎉🎉 \n",
      "['Dalsza część uroczystości odbyła się na Cmentarzu Obrońców Wybrzeża, gdzie również tego dnia miało miejsce wspomnienie Zbrodni Katyńskiej (przesunięte w związku w wybuchem pandemii) w 80. lecie jej dokonania. W imieniu AnnaFotyga 🇵🇱 udział w uroczystościach brał pracownik biura'\n",
      " 'Konkurs \"Gotuj z klasą\" wygrali Natalia Farfułowska i Piotr Pastorczyk. Gratuluję 👏🏻 Zachwycili jury kapuśniakiem na pstrągu z pierożkiem ziemniaczanym, żołądkami gęsimi w sosie z grzybów leśnych i kaszą pęczak oraz ciastem Marcinek. Specjalnie wrzucam info w porze obiadowej😉 '\n",
      " 'Polska = Wisła Kraków? Wisła: ✔ oddanie władzy hochsztaplerom z gębami pełnymi wielkich słów ✔ uprzywilejowani nieliczni rabują, reszta wierzy w cuda ✔ krach i potem żal do całego świata. Polska jest dziś w środku tego cyklu. Od nas w 2019 zależy, czy się z niego wyrwiemy '\n",
      " 'Fantastyczny koncert na finał festiwalu SinfoniaVarsovia Swojemu Miastu. Dyrygował Michał Nestorowicz. Zjawiskowe wykonanie Modesta Musorgskiego Obrazki z wystawy (instrumentacja Maurice Ravel). Mam nadzieję, że już za kilka lat Festiwal odbędzie się w nowej sali koncertowej. 🎼 '\n",
      " 'Sojusz PiSu z Kościołem w Sejmie⬇️nowość przy kaplicy-neon”Trwa nabożeństwo.Prosimy o zachowanie ciszy”.Obok sala posiedzeń,windy,toaleta,trasa przejścia z hotelu sejmowego do bud.gł.,hol wystawowy. Chodzić na palcach,nie oddychać,nie rozmawiać?To Sejm,czy kościół?🤦\\u200d♀️ ']\n",
      "Konferencja prasowa z udziałem Parlamentarzystów KoalicjaObywatelska w sprawie obecnej sytuacji w jakiej znaleźli się polscy przędsiębiorcy, ludzie kultury oraz o bardzo złej sytuacji w służbie zdrowia w dobie pandemii. Jest potrzebna konkretna PomocTeraz \n",
      "['Swoją drogą trudno być optymistą w kwestii opowieści o elektromobilności i wchodzenia Polski w przemysł kosmiczny w sytuacji gdy czołową spółkę skarbu państwa od 20 lat przerasta stabilizacja temperatury w wagonach 🤔 (Pozdrowienia dla !)'\n",
      " 'Konferencja prasowa w Starostwie Powiatowym w Garwolinie.Mowimy o rządowym dofinansowaniu dokumentacji mostu na Wiśle Maciejowice-Kozienice oraz funkcjonowaniu TarczaFinansowaPFR i TarczaAntykryzysowa w powiecie garwolińskim.Pomoc przedsiębiorcom: 72 mln zł i 39 mln zł. '\n",
      " ' 2 spotkania z Panią Ambasador, 2 razy widział sie z jej zastępczynią. Po pierwszym zapewnieniu, iż badania naukowe w projekcie będą wyłączone(co stało się faktem), na kolejnych spotkaniach problem nie wracał.'\n",
      " 'Ciekawe co by się stało gdyby np w listopadzie przestały płynąć miliony do tych gazet? Ile z nich i jak długo utrzymałyby się na rynku? 🤔 Ciekawe dlaczego tak źle piszą o KoalicjaEuropejska ? Tyle pytań ...😉 '\n",
      " 'Na dzisiejszym spotkaniu w ramach 18dzielnic1Warszawa na Bielanach rozmawialiśmy o przyszłości dzielnicy, m. in. o usprawnieniu komunikacji z okolicznymi gminami, modernizacji szkół oraz o ważnej dla mieszkańców kwestii budowy dzielnicowego centrum kultury. Trzaskowski2018 ']\n",
      "O dzieciach a COVID-19. Znakomici wykładowcy. Transmisja na stronę senat. \n",
      "['Poczta Polska. Neutralna politycznie instytucja publiczna. '\n",
      " ' Przecież dostanie Pani teraz 500. Niezależnie od dochodu.'\n",
      " 'Ukonstytuuował się Narodowo-Demokrat. Zespół Parlamentarny. Przew. , wice: i , skarbnik '\n",
      " ' Pozdrawiam serdecznie. Miłego weekendu Szanowna Pani.'\n",
      " ' można się szanować. I tak czyni wielu kibiców. I Realu i Barcelony.']\n",
      "Co trzeba wiedzieć o dziecku w dobie COVID-19. Czy może zachorować, zakażać? \n",
      "['18 lat temu pod Wielką Krokwią w Zakopanem Ojciec Święty Jan Paweł II odprawił Msze Św. Górale pamietają. '\n",
      " 'UE przedluża sankcje wobec Rosji o kolejne 6 miesięcy, w zw. z agresją na Ukrainę, pomimo zastrzeżeń Włoch. '\n",
      " 'Co myślicie o deregulacji? Czekam na Wasze opinie.'\n",
      " ' Co myślę o wczorajszej manipulacji powiedziałem w studiu. Skoro oczekuje się wspólnego działania warto o tym uprzedzać wcześniej'\n",
      " 'Co by było fair, apeluję też aby ministrowie przekazali swoje premie na WOŚP.']\n",
      "Dziękuję za nominację. To dla mnie zaszczyt i przyjemność \n",
      "['Dziękuję za zaufanie. To dla mnie zaszczyt i duże wyzwanie. PolskaWolności'\n",
      " ' Dziękuję, wzajemnie. Serdeczności dla wszystkich :)'\n",
      " ' Proszę to pisać do B.Szydło i jej fundacji. Dobry adres'\n",
      " 'Trwa Komisja ds.UE z udziałem Komsiarza Janusza Lewandowskiego. Transmisja na '\n",
      " ' Dziękuję, ciekawe uwagi. Również serdecznie pozdrawiam']\n",
      "Bardzo serdecznie dziękuję Radzie Miast Wrocław’ia za nominacje i otrzymanie Nagrody Wrocławia. serdecznie dziękuję za ciepłe słowa. \n",
      "[' Można np. takiego posła odwołać z funkcji wicemarszałka, przewodniczącego komisji sejmowej lub jego zastępcy.'\n",
      " ' poważne analizy wciąż należą do mediów trad., siłą tych nowych jest szybkość, bezpośredniość i możliwość dialogu.'\n",
      " 'Konferencja prasowa wspólnie z ws.dyscyplinowania sędzi za otrzymanie Gdańskiej Nagrody Równości '\n",
      " ' Mi akurat w projekcie brakuje jakiegoś promowania brania urlopu rodzicielskiegi przez ojców. rynekpracy'\n",
      " ' Przykro, tragiczna historia. Przed pomnikiem ofiar złożyliśmy dzisiaj kwiaty, też z myślą o Polakach i pamięci o nich.']\n",
      "Apelujemy wraz z do Wojewody Dolnośląskiego o zmianę decyzji w sprawie Kliniki Ginekologii i Położnictwa UMEDWrocław. Kobiety w ciąży i chore onkologicznie oraz noworodki nie mogą pozostać bez opieki. \n",
      "[' Może przechodziła nie karę, a trening czystości. Teraz już sama wie, jak korzystać z kuwety i Szopen może ogłosić sukces wychowawczy :)'\n",
      " 'Ten film wyraźnie obrazuje z czym mamy do czynienia w przypadku AferaCBA. Sprawy wymagają natychmiastowej reakcji premiera i ujawnienia wszystkich okoliczności oraz ukarania winnych. Służby państwowe powinny być kryształowe, bez względu na to jak PiS to słowo zdewaluował.'\n",
      " ' \"A w Paryżu lewactwo już się bije z policją. Taka ciekawostka-relację \"live\" na YT zrobiła jedna stacja. Jaka? Niemiecka filia Russia Today\"'\n",
      " 'Podczas konferencji prasowej wraz z członkami przedstawiliśmy plan działania na najbliższe tygodnie. Na koniec września przedstawimy Sejmowi raport z działalności śledczej Komisji, w którym znajdzie się sporządzona na podstawie 2 lat pracy analiza AferaReprywatyzacyjna. '\n",
      " 'PJK, tak samo jak w 2013 r., odwiedził Szczecin podczas zlotu żaglowców TheTallShipsRaces. Silne Pomorze Zachodnie to polska racja stanu! ']\n",
      "tydziendlaRafala Poniedziałkowa konferencja prasowa w Oława z udziałem i samorządowcami. Zachęcamy do udziału w Wybory 12 lipca i oddania głosu na ❌👍 \n",
      "['📌 RozmowyNiekończone w : Byłam i jestem dumna z tego jak Pan Prezydent wraz z Małżonką reprezentują nasz kraj na arenie międzynarodowej. Duda2020 Prezydent PrezydentDuda MójPrezydent wywiad Cała audycja 👇👇 '\n",
      " '12 tysięcy profesjonalnych maseczek od naszych chińskich przyjaciół z partnerskiego miasta Chengdu trafi do łódzkich domów pomocy społecznej i szpitali. Bardzo dziękujemy! 谢谢 lodz '\n",
      " 'W niedzielę jesteśmy w Wiedniu 🙂 Wraz z i zapraszam na spotkanie otwarte z RuchNarodowy!'\n",
      " 'Ten moment, gdy w ramach PogotowieZakupowe jedziesz do Myszków zrobić seniorce zakupy, a lądujesz w piwnicy, bo jeszcze trzeba w piecu napalić🔥. '\n",
      " 'W poniedziałek, wspólnie z Krystyną Danilecką-Wojewódzką ogłosimy naszą słupską drużynę do zbliżających się wyborów samorządowych. ŁączynasSłupsk A tymczasem życzę Wam miłego i słonecznego weekendu! ☀️🤗 ']\n",
      "Konferencja prasowa Prezydenta Wrocławia na temat szczepień przeciwko wirusowi HPV dla chłopców od nowego roku szkolnego. Serdecznie dziękuję za inicjatywę. 👏👏 \n",
      "['Zbiórkę na rozpoczynam z Piotrem Polkiem 😀do zobaczenia na ulicach . Owsiak wosp2017 '\n",
      " 'Rząd z kolejną propozycją. Protestujące: \"to manipulacja\"‼️ popieramprotestujących podłazmiana '\n",
      " ' To jeszcze raz ➡️23 tweety nt. AmberGold i \"ginącej\"dokumentacji na szczytach Prokuratury '\n",
      " 'Trzy partie, trzech liderów, lista nr 3. To musi być znak:) Gdula2019 Lewica ŁączyNasPrzyszłość 🌹✊ '\n",
      " 'Dzisiejsza audycja SednoSprawy w . Zapraszam do obejrzenia i wysłuchania całości. ⬇⬇⬇ ']\n",
      "Ważna informacja dla osób głosujących za granicą. \n",
      "['Tradycyjnie rozliczam się z pracy magistratu za ostatni miesiąc. '\n",
      " 'To dobra wiadomość dla nas i niezbyt dobra dla Ukraińców.'\n",
      " ' Wiemy też, jak ważna była niezależna prokuratura.'\n",
      " ' Dziękujemy Pani Premier za piękną i efektywną prace dla Polski.'\n",
      " 'Podręczniki dla dzieci to olbrzymie oszczędności dla rodziców. ']\n",
      "Grabiszynek we Wrocławiu tłumnie ruszył do urn. Ja już zagłosowałam. Głosuj i Ty. ✌️✌️✌️ wybory2020 \n",
      "['Prezydent o tym co najważniejsze: wzajemnym szacunku. Piękna Polska to Polska dla wszystkich jej obywateli. 🇵🇱✌️Trzaskowski2020 '\n",
      " 'Nie to nie jest prima aprilis. Katarzyna Lubnauer chce zostać Marszałkiem Sejmu RP😂😂😂😂😂😂😂. RT miłe widziane. '\n",
      " ' będzie lepiej - już jutro - jak na pierwszy raz z nadwagą 😄 chyba nieźle ... dopingu mi trzeba 😄😄'\n",
      " 'Sejm uchwalił ustawę ws. głosowania korespondencyjnego w wyborach prezydenckich w 2020 r. 👍👍👍 Szczegółowe wyniki: '\n",
      " '. 🇵🇱Polska to jest wielkie marzenie. Chcę lepszej przyszłości dla Polski. Musimy budować lepszą Polskę na wiele dekad. 🇵🇱🇪🇺 PrawyboryPrezydenckie Kidawa2020']\n",
      "Konferencja prasowa we Wrocław’iu. Zbiórka podpisów pod kandydatura na Prezydenta RP Rafała Trzaskowskiego. Trzaskowski2020 \n",
      "[' Od 2015 zaproponuję mechanizm fin dla kolejnych klas. Idea: podręcznik wieloletni, własność szkoły.'\n",
      " 'Wraz z dzis. startem 2 pop-tygodników udział mediów szanujących inteligencję czytelników drastycznie się obniżył.'\n",
      " 'Kongres EPP w Bonn. Dobra okazja do podtrzymania politycznych znajomosci na szczeblu europejskim. Rozmowy kuluarowe - bezcenne:)'\n",
      " '15lecie Mlodych Demokratow. Lezka się w oku kręci:) Gratulacje dla organizatorów. Pamietajcie o starszych;)'\n",
      " 'Poranne spotkanie w świątecznej już atmosferze z argentyńskim bp. Arielem Edgardo Torrado Mosconim i towarzysząca jemu młodzieżą. ']\n",
      "Dzisiaj świętujemy Międzynarodowy Dzień Dziecka :-) \n",
      "['Dzisiaj spotykamy się w na kolejnym Wspólnie z dyskutujemy o samorzadnosci '\n",
      " 'Dzisiaj świętujemy 85-lecie Magistrali Węglowej łączącej Śląsk z Pomorzem'\n",
      " ' Zapraszam do merytorycznej rozmowy i skonfrontujemy kompetencje'\n",
      " 'Dzisiaj świętujemy 8 Dzien Polsko Węgierski w Katowicach '\n",
      " 'Zapraszam po 21:00 do TwójWybór Komentujemy bieżące tematy, zapraszam serdecznie :) ']\n",
      "2 maja obchodzimy DzieńFlagi Rzeczypospolitej Polskiej. Jesteśmy dumni z Biało-Czerwonej! Pamiętaj - WywieśFlagę 🇵🇱 \n",
      "['Zapraszam 9.50 do TVP Info, do programu - oczywiście Woronicza17! Do zobaczenia 😎 dlaPolski'\n",
      " ' 3 lata za nielegalne posiadanie broni, a teraz nowe zarzuty. I nawet prezydent, z którym pił wódkę, go nie ułaskawił! 😁'\n",
      " '2 maja obchodzimy Dzień Flagi Rzeczypospolitej Polskiej. Jesteśmy dumni z Biało-Czerwonej! 🇵🇱 DzieńFlagi '\n",
      " 'Bo naszą stolicą jest po prostu Warszawa. I zadba żebyśmy wszyscy mogli być z niej dumni i ją po prostu lubili'\n",
      " '2 maja obchodzimy Dzień Flagi Rzeczypospolitej Polskiej. Jesteśmy dumni z Biało-Czerwonej! Pamiętaj - wywieś flagę! ']\n",
      "Dziękuję dyrektorowi Piotrowi Pobrotynowi w 14 rocznicę kierowania USK we Wrocławiu \n",
      "[' na pewno będzie okazja, żeby spotkać się we Wrocławiu :)'\n",
      " 'Zachęcam do odwiedzin grobów posłów ze swoich stron. Na Podkarpaciu wielu z nich zasiadało w Sejmie Ustawodawczym 100lat '\n",
      " 'Odkłamujemy Szydło i narrację PiS: Reprezentantem RP i szefem polskiej delegacji na Szczycie NATO jest prezydent RP a nie A.Macierewicz 2/2'\n",
      " 'Jeśli będę prezydentem RP to na pewno będę chciał rozpocząć debatę nad bardziej sprawiedliwym systemem podatkowym - w radiu .'\n",
      " ' A przeczytał Pan cały esej Tuska z 1987 roku? Jaki jest kontekst tych słów, nawet w tym samym zdaniu i akapicie? Pisał to jako podziemny dziennikarz, a nie dygnitarz władzy.']\n",
      "Szanowni Państwo! Biuro Senatorskiej Alicji Chybickiej przechodzi na system pracy zdalnej. Jesteśmy do Waszej dyspozycji: 📧 biuro.pl 📞 48.605585746 koronawirus ZostańwDomu \n",
      "['\"Mam wrażenie, że my, samorząd Warszawa, jesteśmy na celowniku prezesa Kaczyński.ego, bo stanęliśmy na drodze jego gastronomiczno-hotelarskich planów.\" - obrazowo o podejściu PiS do samorządu. 4czerwca ŚwietoWolnościiSolidarności'\n",
      " '📌 Stare Babice, Stanisławów, Borzęcin Duży czy Koczargi Nowe to miejsca, do których dotarliśmy dziś z materiałami Rafała Trzaskowskiego. 👉🏻 Dziękuję za pomoc Marcin Podsędek i Piotr Kandyba! Wspólnie wygramy. 🇵🇱✌🏻 '\n",
      " 'Sukces reformy Polskiego Górnictwa jest możliwy tylko przy mądrym zarządzaniu. Potwierdziliśmy to.👍🇵🇱 Śląsk DziałaćSkutecznie PrzybijPiątkę '\n",
      " 'Sztab Obywatelski w Małopolsce przekształcił się w sztab pomocowy w związku z koronawirus💉 Online rozmawialiśmy o potrzebach i możliwościach pomocy. Jeżeli macie jakieś problemy jesteśmy do Waszej dyspozycji pod tel☎️ 885 444 528 i adresem📧malopolska.pl '\n",
      " 'Pełną parą idą prace w pobliżu Głównego Punktu Zasilania przy ul. Długiej 👏To kolejny odcinek, na którym prowadzone są prace drogowe przy budowie tramwajnaPopowice. Zaawansowane roboty trwają także przy przebudowie wiaduktu kolejowego i kanału ogólnospławnego💪👍. Dzieje się! ']\n",
      "Gotowa do działania ✌️✌️✌️🇵🇱🇵🇱🇵🇱 PrawdziwaPrezydent Kidawa2020 \n",
      "['Jest moc jest siła jest wiara ✌️✌️✌️✌️✌️Kidawa2020 PrawdziwaPrezydent '\n",
      " 'W Małopolsce jest moc 💪💪✌️✌️✌️✌️dla Kidawa2020 PrawdziwaPrezydent ✌️🇵🇱✌️🇵🇱✌️ '\n",
      " '❗️ Chcemy zmiany ❗️ ✌️🇵🇱 Trzaskowski2020 SilnyPrezydent '\n",
      " 'Startujemy✌️✌️✌️🇵🇱🇵🇱🇵🇱 Kidawa2020 PrawdziwaPrezydent '\n",
      " 'Jeszcze więcej pracy dla Trzaskowski2020 ✌️✌️✌️✌️✌️']\n",
      "Wspaniała konwencja Kidawa2020 Wspaniała PrawdziwaPrezydent 🇵🇱🇪🇺✌️\n",
      "['Zapraszam Państwa do studia Minela20 gdzie będę gościem - Mówimy o Polsce 😎🇵🇱🇵🇱🇵🇱!'\n",
      " 'Zaraz zaczynamy💪✌️🇵🇱Kidawa2020 PrawdziwaPrezydent '\n",
      " 'Punkt kulminacyjny wspaniałej konwencji Duda2020 : Rozpoczęło się przemówienie Prezydenta . 🇵🇱🇵🇱🇵🇱'\n",
      " 'Kidawa2020 jest zawsze tam, gdzie ludzie potrzebują pomocy i wsparcia ‼️👍👍'\n",
      " 'Plakaty wyborcze Kidawa2020 są już w JeleniaGora ‼️Zapraszam serdecznie✌️✌️ ']\n",
      "Brawo Wrocław! ✌️ Kidawa2020 PrawdziwaPrezydent 🇵🇱🇪🇺\n",
      "['Już tylko 30 min ✌️✌️✌️ Kidawa2020 PrawdziwaPrezydent '\n",
      " 'Pani Magdo Spełnimy te marzenia👍✌️Już za chwilę ✌️✌️✌️Trzaskowski2020'\n",
      " 'Wspieramy i walczymy dalej ✌️✌️✌️Trzaskowski2020 SilnyPrezydent'\n",
      " 'Przy takiej produkcji z pewnością plakatów wyborczych nie zabraknie ! 💪💪💪 Kidawa2020 PrawdziwaPrezydent 🇵🇱 '\n",
      " 'Brawo Konin !!! Kidawa2020 PrawdziwaPrezydent ✌️✌️✌️ ']\n",
      "Pozdrawiam Młodych Demokratów! Do zobaczenia w Warszawie :-) Kidawa2020\n",
      "['Zapraszam serdecznie na spotkanie już w najbliższą środa. Do zobaczenia!!! Duda2020 ŁączyNasPolska PrezydentPolskichSpraw '\n",
      " 'Dziś o godzinie 20:00 nasze siatkarki staną do meczu z Białorusią. Powodzenia dziewczyny! '\n",
      " 'W Grecji coraz ostrzej: motocyklista z pistoletem maszynowym otworzył ogień do trzech 20-letnich działaczy Złotego Świtu. Dwóch nie żyje.'\n",
      " ' Z pewnością, jednak wykluczenie prezydenta Turcji z G20 czy nie wpuszczenie na terytorium Niemiec byłoby poważnym skandalem dyplomatycznym.'\n",
      " 'Zapraszam serdecznie na 20:10 do Do zobaczenia :) ']\n"
     ]
    }
   ],
   "source": [
    "for i in range(20):\r\n",
    "    print(df.loc[df[\"id\"] == anchor_tweet_ids[i]].tweet.values[0])\r\n",
    "    print(df.loc[df[\"id\"].isin(closest_ids[i, :])].tweet.values)"
   ]
  },
  {
   "cell_type": "code",
   "execution_count": null,
   "metadata": {},
   "outputs": [],
   "source": [
    "closests_tweets"
   ]
  },
  {
   "cell_type": "code",
   "execution_count": null,
   "metadata": {},
   "outputs": [],
   "source": []
  }
 ],
 "metadata": {
  "kernelspec": {
   "display_name": "Python 3",
   "language": "python",
   "name": "python3"
  },
  "language_info": {
   "codemirror_mode": {
    "name": "ipython",
    "version": 3
   },
   "file_extension": ".py",
   "mimetype": "text/x-python",
   "name": "python",
   "nbconvert_exporter": "python",
   "pygments_lexer": "ipython3",
   "version": "3.8.6"
  },
  "orig_nbformat": 2
 },
 "nbformat": 4,
 "nbformat_minor": 2
}