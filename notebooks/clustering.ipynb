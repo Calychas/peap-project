{
 "cells": [
  {
   "cell_type": "code",
   "execution_count": 2,
   "metadata": {},
   "outputs": [],
   "source": [
    "%load_ext autoreload\r\n",
    "%autoreload 2"
   ]
  },
  {
   "cell_type": "code",
   "execution_count": 3,
   "metadata": {},
   "outputs": [],
   "source": [
    "from src.data.utils import read_embeddings_dataframe"
   ]
  },
  {
   "cell_type": "code",
   "execution_count": 4,
   "metadata": {},
   "outputs": [],
   "source": [
    "df = read_embeddings_dataframe(\"embeddings.csv\")"
   ]
  },
  {
   "cell_type": "code",
   "execution_count": 10,
   "metadata": {},
   "outputs": [
    {
     "data": {
      "text/plain": "numpy.ndarray"
     },
     "execution_count": 10,
     "metadata": {},
     "output_type": "execute_result"
    }
   ],
   "source": [
    "type(df['embedding'].iloc[0])"
   ]
  },
  {
   "cell_type": "code",
   "execution_count": 5,
   "metadata": {},
   "outputs": [],
   "source": [
    "from src.models.clustering import perform_clusterings, create_clustering_files"
   ]
  },
  {
   "cell_type": "code",
   "execution_count": 6,
   "metadata": {},
   "outputs": [],
   "source": [
    "results = perform_clusterings(df, 5, 5)"
   ]
  },
  {
   "cell_type": "code",
   "execution_count": 23,
   "metadata": {},
   "outputs": [
    {
     "data": {
      "text/plain": "(           username  kmeans_cluster  gmm_cluster  db_scan_cluster\n 0         achybicka               4            3                0\n 1          ac_sobol               2            1               -1\n 2        adambielan               2            1               -1\n 3        adamgaweda               4            3               -1\n 4    adamowiczpawel               2            1                0\n ..              ...             ...          ...              ...\n 543    zofiaczernow               4            3                0\n 544   z_frankiewicz               4            3                0\n 545     _mkonieczny               3            1                0\n 546      _piotrcwik               3            3                0\n 547      _urbaniakj               3            1                0\n \n [548 rows x 4 columns],\n {'k_means': KMeans(n_clusters=5),\n  'gmm': GaussianMixture(n_components=5),\n  'db_scan': DBSCAN()})"
     },
     "execution_count": 23,
     "metadata": {},
     "output_type": "execute_result"
    }
   ],
   "source": [
    "results"
   ]
  },
  {
   "cell_type": "code",
   "execution_count": 7,
   "metadata": {},
   "outputs": [],
   "source": [
    "create_clustering_files(results, \".\", \"clusters\", \"cluster_models\")"
   ]
  },
  {
   "cell_type": "code",
   "execution_count": 4,
   "metadata": {},
   "outputs": [],
   "source": [
    "from src.models.dimensionality_reduction import create_umap_data_and_model\r\n",
    "create_umap_data_and_model(df, \".\", \"graph_umap\", \"umap\")"
   ]
  }
 ],
 "metadata": {
  "kernelspec": {
   "display_name": "Python 3",
   "language": "python",
   "name": "python3"
  },
  "language_info": {
   "codemirror_mode": {
    "name": "ipython",
    "version": 3
   },
   "file_extension": ".py",
   "mimetype": "text/x-python",
   "name": "python",
   "nbconvert_exporter": "python",
   "pygments_lexer": "ipython3",
   "version": "3.8.6"
  },
  "orig_nbformat": 2
 },
 "nbformat": 4,
 "nbformat_minor": 2
}