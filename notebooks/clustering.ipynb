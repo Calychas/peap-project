{
 "cells": [
  {
   "cell_type": "code",
   "execution_count": 205,
   "metadata": {},
   "outputs": [
    {
     "name": "stdout",
     "output_type": "stream",
     "text": [
      "The autoreload extension is already loaded. To reload it, use:\n",
      "  %reload_ext autoreload\n"
     ]
    }
   ],
   "source": [
    "%load_ext autoreload\r\n",
    "%autoreload 2"
   ]
  },
  {
   "cell_type": "code",
   "execution_count": 206,
   "metadata": {},
   "outputs": [],
   "source": [
    "from src.data.utils import read_embeddings_dataframe"
   ]
  },
  {
   "cell_type": "code",
   "execution_count": 207,
   "metadata": {},
   "outputs": [],
   "source": [
    "df = read_embeddings_dataframe(\"embeddings.csv\")"
   ]
  },
  {
   "cell_type": "code",
   "execution_count": 208,
   "metadata": {},
   "outputs": [
    {
     "data": {
      "text/plain": "numpy.ndarray"
     },
     "execution_count": 208,
     "metadata": {},
     "output_type": "execute_result"
    }
   ],
   "source": [
    "type(df['embedding'].iloc[0])"
   ]
  },
  {
   "cell_type": "code",
   "execution_count": 209,
   "metadata": {},
   "outputs": [],
   "source": [
    "from src.models.clustering import perform_clusterings, create_clustering_files"
   ]
  },
  {
   "cell_type": "code",
   "execution_count": 210,
   "metadata": {},
   "outputs": [],
   "source": [
    "results = perform_clusterings(df, 5, 5, 0.8)\r\n",
    "create_clustering_files(results, \".\", \"clusters\", \"cluster_models\")"
   ]
  },
  {
   "cell_type": "code",
   "execution_count": 211,
   "metadata": {},
   "outputs": [],
   "source": [
    "from src.models.dimensionality_reduction import create_umap_data_and_model\r\n",
    "create_umap_data_and_model(df, \".\", \"graph_umap\", \"umap\")"
   ]
  },
  {
   "cell_type": "code",
   "execution_count": 203,
   "metadata": {},
   "outputs": [],
   "source": [
    "import plotly.express as px\r\n",
    "import pandas as pd\r\n",
    "umap_df = pd.read_csv(\"graph_umap.csv\")\r\n",
    "cluster_info = pd.read_csv(\"clusters.csv\")\r\n",
    "whole_df = pd.merge(umap_df, cluster_info, on='username')\r\n",
    "whole_df['kmeans_cluster'] = whole_df['kmeans_cluster'].astype(str)\r\n",
    "whole_df['gmm_cluster'] = whole_df['gmm_cluster'].astype(str)\r\n",
    "whole_df['mean_shift_cluster'] = whole_df['mean_shift_cluster'].astype(str)\r\n",
    "\r\n",
    "fig = px.scatter(whole_df, x='2D_x', y='2D_y', color='mean_shift_cluster', hover_data=['username'])\r\n",
    "fig.show(renderer='browser')"
   ]
  },
  {
   "cell_type": "code",
   "execution_count": 204,
   "metadata": {},
   "outputs": [],
   "source": [
    "fig = px.scatter_3d(whole_df, x='3D_x', y='3D_z', z='3D_y', color='mean_shift_cluster', hover_data=['username'])\r\n",
    "fig.show(renderer='browser')"
   ]
  },
  {
   "cell_type": "code",
   "execution_count": 119,
   "metadata": {},
   "outputs": [],
   "source": [
    "from src.models.clustering import cluster_db_scan\r\n",
    "data = whole_df[['3D_x', '3D_y', '3D_z']].to_numpy()\r\n",
    "model, labels = cluster_db_scan(data, 0.4)\r\n",
    "whole_df['super_dbscan'] = labels\r\n",
    "whole_df['super_dbscan'] = whole_df['super_dbscan'].astype(str)\r\n",
    "fig = px.scatter_3d(whole_df, x='3D_x', y='3D_y', z='3D_z', color='super_dbscan', hover_data=['username'])\r\n",
    "fig.show(renderer='browser')"
   ]
  },
  {
   "cell_type": "code",
   "execution_count": 124,
   "metadata": {},
   "outputs": [],
   "source": [
    "from src.models.dimensionality_reduction import perform_umap\r\n",
    "import numpy as np\r\n",
    "data = np.array(df[\"embedding\"].tolist())\r\n",
    "umap_10_model, umap_10_reduced = perform_umap(data, 10)"
   ]
  },
  {
   "cell_type": "code",
   "execution_count": 131,
   "metadata": {},
   "outputs": [],
   "source": [
    "_, umap_10_dbscan = cluster_db_scan(umap_10_reduced, 0.3)\r\n",
    "whole_df['umap_10'] = umap_10_dbscan\r\n",
    "whole_df['umap_10'] = whole_df['umap_10'].astype(str)\r\n",
    "fig = px.scatter_3d(whole_df, x='3D_x', y='3D_y', z='3D_z', color='umap_10', hover_data=['username'])\r\n",
    "fig.show(renderer='browser')"
   ]
  },
  {
   "cell_type": "code",
   "execution_count": 133,
   "metadata": {},
   "outputs": [
    {
     "data": {
      "text/plain": "(548, 768)"
     },
     "execution_count": 133,
     "metadata": {},
     "output_type": "execute_result"
    }
   ],
   "source": [
    "data.shape"
   ]
  },
  {
   "cell_type": "code",
   "execution_count": 134,
   "metadata": {},
   "outputs": [],
   "source": [
    "from sklearn.metrics.pairwise import euclidean_distances \r\n",
    "\r\n",
    "distances = euclidean_distances(data)"
   ]
  },
  {
   "cell_type": "code",
   "execution_count": 140,
   "metadata": {},
   "outputs": [
    {
     "data": {
      "text/plain": "(300304,)"
     },
     "execution_count": 140,
     "metadata": {},
     "output_type": "execute_result"
    }
   ],
   "source": [
    "distances = np.reshape(distances, -1)\r\n",
    "distances.shape"
   ]
  },
  {
   "cell_type": "code",
   "execution_count": 141,
   "metadata": {},
   "outputs": [],
   "source": [
    "fig = px.histogram(distances)\r\n",
    "fig.show(renderer='browser')"
   ]
  },
  {
   "cell_type": "code",
   "execution_count": null,
   "metadata": {},
   "outputs": [],
   "source": []
  }
 ],
 "metadata": {
  "kernelspec": {
   "display_name": "Python 3",
   "language": "python",
   "name": "python3"
  },
  "language_info": {
   "codemirror_mode": {
    "name": "ipython",
    "version": 3
   },
   "file_extension": ".py",
   "mimetype": "text/x-python",
   "name": "python",
   "nbconvert_exporter": "python",
   "pygments_lexer": "ipython3",
   "version": "3.8.6"
  },
  "orig_nbformat": 2
 },
 "nbformat": 4,
 "nbformat_minor": 2
}