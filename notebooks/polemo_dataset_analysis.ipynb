{
 "cells": [
  {
   "cell_type": "code",
   "execution_count": 42,
   "metadata": {
    "collapsed": true
   },
   "outputs": [],
   "source": [
    "import pandas as pd\n",
    "import os\n",
    "import matplotlib.pyplot as plt\n",
    "import seaborn as sns"
   ]
  },
  {
   "cell_type": "code",
   "execution_count": 50,
   "outputs": [],
   "source": [
    "PATH_TO_POLEMO_CONLL = \"../datasets/polemo/dataset_conll\"\n",
    "PATH_TO_PLOTS = \"../reports/plots\""
   ],
   "metadata": {
    "collapsed": false,
    "pycharm": {
     "name": "#%%\n"
    }
   }
  },
  {
   "cell_type": "code",
   "execution_count": 53,
   "outputs": [],
   "source": [
    "files_to_compare = [\"all.sentence.train.txt\",\n",
    "                    \"all.text.train.txt\"]\n",
    "\n",
    "get_length_func = lambda text: len(text)\n",
    "for file_to_compare in files_to_compare:\n",
    "    with open(os.path.join(PATH_TO_POLEMO_CONLL,file_to_compare), \"r\", encoding=\"utf-8\") as f:\n",
    "        labels = []\n",
    "        texts = []\n",
    "        for line in f:\n",
    "            labels.append(line[line.index(\"__label__\"):-1])\n",
    "            texts.append(line[:line.index(\"__label__\")])\n",
    "\n",
    "        df = pd.DataFrame(data={\"text\": texts, \"label\": labels})\n",
    "        df['length'] = df['text'].apply(get_length_func)\n",
    "        plt.figure(figsize=(12,12))\n",
    "        plt.title(f\"File - {file_to_compare}\")\n",
    "        plt.xlabel(\"Length of text\")\n",
    "        sns.histplot(df['length'], binwidth=50)\n",
    "        plt.savefig(os.path.join(PATH_TO_PLOTS,f\"pol_emo_{file_to_compare}_length.png\"))\n",
    "        plt.close()"
   ],
   "metadata": {
    "collapsed": false,
    "pycharm": {
     "name": "#%%\n"
    }
   }
  },
  {
   "cell_type": "code",
   "execution_count": 28,
   "outputs": [],
   "source": [
    "files_to_extract = [\"all.sentence.train.txt\",\n",
    "                    \"all.sentence.test.txt\",\n",
    "                    \"all.sentence.dev.txt\"]\n",
    "\n",
    "lines_for_dataset = {}\n",
    "for file_to_extract in files_to_extract:\n",
    "    lines = []\n",
    "    with open(os.path.join(PATH_TO_POLEMO_CONLL,file_to_extract), \"r\", encoding=\"utf-8\") as f:\n",
    "        for line in f:\n",
    "            lines.append(line)\n",
    "        lines_for_dataset[file_to_extract] = lines"
   ],
   "metadata": {
    "collapsed": false,
    "pycharm": {
     "name": "#%%\n"
    }
   }
  },
  {
   "cell_type": "code",
   "execution_count": 29,
   "outputs": [],
   "source": [
    "dataframes = {}\n",
    "for dataset_file, lines in lines_for_dataset.items():\n",
    "    labels = []\n",
    "    texts = []\n",
    "    for line in lines:\n",
    "        labels.append(line[line.index(\"__label__\"):-1])\n",
    "        texts.append(line[:line.index(\"__label__\")])\n",
    "\n",
    "    dataframes[dataset_file] = pd.DataFrame(data={\"text\": texts, \"label\": labels})\n"
   ],
   "metadata": {
    "collapsed": false,
    "pycharm": {
     "name": "#%%\n"
    }
   }
  },
  {
   "cell_type": "code",
   "execution_count": 30,
   "outputs": [],
   "source": [
    "all_labels = set()\n",
    "for dataset_file, df in dataframes.items():\n",
    "    all_labels = all_labels.union(df['label'].unique())"
   ],
   "metadata": {
    "collapsed": false,
    "pycharm": {
     "name": "#%%\n"
    }
   }
  },
  {
   "cell_type": "code",
   "execution_count": 32,
   "outputs": [
    {
     "name": "stdout",
     "output_type": "stream",
     "text": [
      "__label__z_minus_m    16911\n",
      "__label__z_plus_m     12293\n",
      "__label__z_zero       11255\n",
      "__label__z_amb         5515\n",
      "Name: label, dtype: int64\n",
      "__label__z_minus_m    2123\n",
      "__label__z_plus_m     1522\n",
      "__label__z_zero       1419\n",
      "__label__z_amb         681\n",
      "Name: label, dtype: int64\n",
      "__label__z_minus_m    2122\n",
      "__label__z_plus_m     1509\n",
      "__label__z_zero       1427\n",
      "__label__z_amb         689\n",
      "Name: label, dtype: int64\n"
     ]
    }
   ],
   "source": [
    "for dataset_file, df in dataframes.items():\n",
    "    print(df['label'].value_counts())"
   ],
   "metadata": {
    "collapsed": false,
    "pycharm": {
     "name": "#%%\n"
    }
   }
  },
  {
   "cell_type": "code",
   "execution_count": 31,
   "outputs": [
    {
     "data": {
      "text/plain": "{'__label__z_amb',\n '__label__z_minus_m',\n '__label__z_plus_m',\n '__label__z_zero'}"
     },
     "execution_count": 31,
     "metadata": {},
     "output_type": "execute_result"
    }
   ],
   "source": [
    "all_labels"
   ],
   "metadata": {
    "collapsed": false,
    "pycharm": {
     "name": "#%%\n"
    }
   }
  },
  {
   "cell_type": "code",
   "execution_count": 33,
   "outputs": [],
   "source": [
    "replace_dict = {\n",
    "    \"__label__z_amb\" : \"ambiguous\",\n",
    "    \"__label__z_minus_m\": \"negative\",\n",
    "    \"__label__z_plus_m\": \"positive\",\n",
    "    \"__label__z_zero\": \"neutral\"\n",
    "}"
   ],
   "metadata": {
    "collapsed": false,
    "pycharm": {
     "name": "#%%\n"
    }
   }
  },
  {
   "cell_type": "code",
   "execution_count": 57,
   "outputs": [],
   "source": [
    "for dataset_file, df in dataframes.items():\n",
    "    df['label'] = df['label'].replace(replace_dict)\n",
    "    df.to_csv(os.path.join(PATH_TO_POLEMO_CONLL, \".\".join(dataset_file.split(\".\")[:-1]) + \"_processed.csv\"), index=False)"
   ],
   "metadata": {
    "collapsed": false,
    "pycharm": {
     "name": "#%%\n"
    }
   }
  }
 ],
 "metadata": {
  "kernelspec": {
   "display_name": "Python 3",
   "language": "python",
   "name": "python3"
  },
  "language_info": {
   "codemirror_mode": {
    "name": "ipython",
    "version": 2
   },
   "file_extension": ".py",
   "mimetype": "text/x-python",
   "name": "python",
   "nbconvert_exporter": "python",
   "pygments_lexer": "ipython2",
   "version": "2.7.6"
  }
 },
 "nbformat": 4,
 "nbformat_minor": 0
}