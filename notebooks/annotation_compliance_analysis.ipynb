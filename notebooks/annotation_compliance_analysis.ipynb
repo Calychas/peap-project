{
 "cells": [
  {
   "cell_type": "code",
   "execution_count": 1,
   "metadata": {
    "collapsed": true
   },
   "outputs": [],
   "source": [
    "import pandas as pd\n",
    "from nltk import agreement\n"
   ]
  },
  {
   "cell_type": "code",
   "execution_count": 2,
   "outputs": [],
   "source": [
    "first_annotation_data = pd.read_csv(\"../datasets/sentiment_data/first_annotation_session.csv\")"
   ],
   "metadata": {
    "collapsed": false,
    "pycharm": {
     "name": "#%%\n"
    }
   }
  },
  {
   "cell_type": "code",
   "execution_count": 3,
   "outputs": [],
   "source": [
    "filip_ratings = first_annotation_data['anotacja - Filip'].values\n",
    "piotr_ratings = first_annotation_data['anotacja - Piotr'].values\n",
    "kacper_ratings = first_annotation_data['anotacja - Kacper'].values\n",
    "szymon_ratings = first_annotation_data['anotacja - Szymon'].values"
   ],
   "metadata": {
    "collapsed": false,
    "pycharm": {
     "name": "#%%\n"
    }
   }
  },
  {
   "cell_type": "code",
   "execution_count": 4,
   "outputs": [
    {
     "name": "stdout",
     "output_type": "stream",
     "text": [
      "Cohen's kappa - first session: 0.5628935274577263\n"
     ]
    }
   ],
   "source": [
    "taskdata = [[0, str(i), str(filip_ratings[i])] for i in range(0, len(filip_ratings))] \\\n",
    "           + [[1, str(i), str(piotr_ratings[i])] for i in range(0, len(piotr_ratings))] \\\n",
    "           + [[2, str(i), str(kacper_ratings[i])] for i in range(0, len(kacper_ratings))] \\\n",
    "           + [[3, str(i), str(szymon_ratings[i])] for i in range(0, len(szymon_ratings))]\n",
    "ratingtask = agreement.AnnotationTask(data=taskdata)\n",
    "print(\"Cohen's kappa - first session: \" + str(ratingtask.kappa()))"
   ],
   "metadata": {
    "collapsed": false,
    "pycharm": {
     "name": "#%%\n"
    }
   }
  },
  {
   "cell_type": "markdown",
   "source": [
    "Kappa Cohen's pairwise - first session"
   ],
   "metadata": {
    "collapsed": false
   }
  },
  {
   "cell_type": "code",
   "execution_count": 5,
   "outputs": [
    {
     "name": "stdout",
     "output_type": "stream",
     "text": [
      "Cohen's Kappa for Filip and Piotr: 0.5837380324684334\n",
      "Cohen's Kappa for Filip and Kacper: 0.45032846226035655\n",
      "Cohen's Kappa for Filip and Szymon: 0.4743067420160336\n",
      "\n",
      "Cohen's Kappa for Piotr and Filip: 0.5837380324684334\n",
      "Cohen's Kappa for Piotr and Kacper: 0.6220075598488031\n",
      "Cohen's Kappa for Piotr and Szymon: 0.5682094184320605\n",
      "\n",
      "Cohen's Kappa for Kacper and Piotr: 0.6220075598488031\n",
      "Cohen's Kappa for Kacper and Filip: 0.45032846226035655\n",
      "Cohen's Kappa for Kacper and Szymon: 0.6787709497206704\n",
      "\n",
      "Cohen's Kappa for Szymon and Piotr: 0.5682094184320605\n",
      "Cohen's Kappa for Szymon and Kacper: 0.6787709497206704\n",
      "Cohen's Kappa for Szymon and Filip: 0.4743067420160336\n"
     ]
    }
   ],
   "source": [
    "## FILIP\n",
    "taskdata = [[0, str(i), str(filip_ratings[i])] for i in range(0, len(filip_ratings))] \\\n",
    "           + [[1, str(i), str(piotr_ratings[i])] for i in range(0, len(piotr_ratings))]\n",
    "ratingtask = agreement.AnnotationTask(data=taskdata)\n",
    "print(f\"Cohen's Kappa for Filip and Piotr: \" + str(ratingtask.kappa()))\n",
    "taskdata = [[0, str(i), str(filip_ratings[i])] for i in range(0, len(filip_ratings))] \\\n",
    "           + [[1, str(i), str(kacper_ratings[i])] for i in range(0, len(kacper_ratings))]\n",
    "ratingtask = agreement.AnnotationTask(data=taskdata)\n",
    "print(f\"Cohen's Kappa for Filip and Kacper: \" + str(ratingtask.kappa()))\n",
    "taskdata = [[0, str(i), str(filip_ratings[i])] for i in range(0, len(filip_ratings))] \\\n",
    "           + [[1, str(i), str(szymon_ratings[i])] for i in range(0, len(szymon_ratings))]\n",
    "ratingtask = agreement.AnnotationTask(data=taskdata)\n",
    "print(f\"Cohen's Kappa for Filip and Szymon: \" + str(ratingtask.kappa()))\n",
    "print()\n",
    "## PIOTR\n",
    "taskdata = [[0, str(i), str(piotr_ratings[i])] for i in range(0, len(piotr_ratings))] \\\n",
    "           + [[1, str(i), str(filip_ratings[i])] for i in range(0, len(filip_ratings))]\n",
    "ratingtask = agreement.AnnotationTask(data=taskdata)\n",
    "print(f\"Cohen's Kappa for Piotr and Filip: \" + str(ratingtask.kappa()))\n",
    "taskdata = [[0, str(i), str(piotr_ratings[i])] for i in range(0, len(piotr_ratings))] \\\n",
    "           + [[1, str(i), str(kacper_ratings[i])] for i in range(0, len(kacper_ratings))]\n",
    "ratingtask = agreement.AnnotationTask(data=taskdata)\n",
    "print(f\"Cohen's Kappa for Piotr and Kacper: \" + str(ratingtask.kappa()))\n",
    "taskdata = [[0, str(i), str(piotr_ratings[i])] for i in range(0, len(piotr_ratings))] \\\n",
    "           + [[1, str(i), str(szymon_ratings[i])] for i in range(0, len(szymon_ratings))]\n",
    "ratingtask = agreement.AnnotationTask(data=taskdata)\n",
    "print(f\"Cohen's Kappa for Piotr and Szymon: \" + str(ratingtask.kappa()))\n",
    "print()\n",
    "## KACPER\n",
    "taskdata = [[0, str(i), str(kacper_ratings[i])] for i in range(0, len(kacper_ratings))] \\\n",
    "           + [[1, str(i), str(piotr_ratings[i])] for i in range(0, len(piotr_ratings))]\n",
    "ratingtask = agreement.AnnotationTask(data=taskdata)\n",
    "print(f\"Cohen's Kappa for Kacper and Piotr: \" + str(ratingtask.kappa()))\n",
    "taskdata = [[0, str(i), str(kacper_ratings[i])] for i in range(0, len(kacper_ratings))] \\\n",
    "           + [[1, str(i), str(filip_ratings[i])] for i in range(0, len(filip_ratings))]\n",
    "ratingtask = agreement.AnnotationTask(data=taskdata)\n",
    "print(f\"Cohen's Kappa for Kacper and Filip: \" + str(ratingtask.kappa()))\n",
    "taskdata = [[0, str(i), str(kacper_ratings[i])] for i in range(0, len(kacper_ratings))] \\\n",
    "           + [[1, str(i), str(szymon_ratings[i])] for i in range(0, len(szymon_ratings))]\n",
    "ratingtask = agreement.AnnotationTask(data=taskdata)\n",
    "print(f\"Cohen's Kappa for Kacper and Szymon: \" + str(ratingtask.kappa()))\n",
    "print()\n",
    "## Szymon\n",
    "taskdata = [[0, str(i), str(szymon_ratings[i])] for i in range(0, len(szymon_ratings))] \\\n",
    "           + [[1, str(i), str(piotr_ratings[i])] for i in range(0, len(piotr_ratings))]\n",
    "ratingtask = agreement.AnnotationTask(data=taskdata)\n",
    "print(f\"Cohen's Kappa for Szymon and Piotr: \" + str(ratingtask.kappa()))\n",
    "taskdata = [[0, str(i), str(szymon_ratings[i])] for i in range(0, len(szymon_ratings))] \\\n",
    "           + [[1, str(i), str(kacper_ratings[i])] for i in range(0, len(kacper_ratings))]\n",
    "ratingtask = agreement.AnnotationTask(data=taskdata)\n",
    "print(f\"Cohen's Kappa for Szymon and Kacper: \" + str(ratingtask.kappa()))\n",
    "taskdata = [[0, str(i), str(szymon_ratings[i])] for i in range(0, len(szymon_ratings))] \\\n",
    "           + [[1, str(i), str(filip_ratings[i])] for i in range(0, len(filip_ratings))]\n",
    "ratingtask = agreement.AnnotationTask(data=taskdata)\n",
    "print(f\"Cohen's Kappa for Szymon and Filip: \" + str(ratingtask.kappa()))"
   ],
   "metadata": {
    "collapsed": false,
    "pycharm": {
     "name": "#%%\n"
    }
   }
  },
  {
   "cell_type": "code",
   "source": [
    "second_annotation_data = pd.read_csv(\"../datasets/sentiment_data/second_annotation_session.csv\")"
   ],
   "metadata": {
    "collapsed": false,
    "pycharm": {
     "name": "#%%\n"
    }
   },
   "execution_count": 6,
   "outputs": []
  },
  {
   "cell_type": "code",
   "execution_count": 7,
   "outputs": [],
   "source": [
    "filip_ratings = second_annotation_data['anotacja - Filip'].values\n",
    "piotr_ratings = second_annotation_data['anotacja - Piotr'].values\n",
    "kacper_ratings = second_annotation_data['anotacja - Kacper'].values\n",
    "szymon_ratings = second_annotation_data['anotacja - Szymon'].values"
   ],
   "metadata": {
    "collapsed": false,
    "pycharm": {
     "name": "#%%\n"
    }
   }
  },
  {
   "cell_type": "code",
   "execution_count": 8,
   "outputs": [
    {
     "name": "stdout",
     "output_type": "stream",
     "text": [
      "Cohen's kappa - second session: 0.5837563063651516\n"
     ]
    }
   ],
   "source": [
    "taskdata = [[0, str(i), str(filip_ratings[i])] for i in range(0, len(filip_ratings))] \\\n",
    "           + [[1, str(i), str(piotr_ratings[i])] for i in range(0, len(piotr_ratings))] \\\n",
    "           + [[2, str(i), str(kacper_ratings[i])] for i in range(0, len(kacper_ratings))] \\\n",
    "           + [[3, str(i), str(szymon_ratings[i])] for i in range(0, len(szymon_ratings))]\n",
    "ratingtask = agreement.AnnotationTask(data=taskdata)\n",
    "print(\"Cohen's kappa - second session: \" + str(ratingtask.kappa()))"
   ],
   "metadata": {
    "collapsed": false,
    "pycharm": {
     "name": "#%%\n"
    }
   }
  },
  {
   "cell_type": "markdown",
   "source": [
    "Kappa Cohen's pairwise - second session"
   ],
   "metadata": {
    "collapsed": false
   }
  },
  {
   "cell_type": "code",
   "execution_count": 9,
   "outputs": [
    {
     "name": "stdout",
     "output_type": "stream",
     "text": [
      "Cohen's Kappa for Filip and Piotr: 0.6293202764976957\n",
      "Cohen's Kappa for Filip and Kacper: 0.4812982098675593\n",
      "Cohen's Kappa for Filip and Szymon: 0.5772241992882563\n",
      "\n",
      "Cohen's Kappa for Piotr and Filip: 0.6293202764976957\n",
      "Cohen's Kappa for Piotr and Kacper: 0.62905317769131\n",
      "Cohen's Kappa for Piotr and Szymon: 0.6228837471783296\n",
      "\n",
      "Cohen's Kappa for Kacper and Piotr: 0.62905317769131\n",
      "Cohen's Kappa for Kacper and Filip: 0.4812982098675593\n",
      "Cohen's Kappa for Kacper and Szymon: 0.562758227667759\n",
      "\n",
      "Cohen's Kappa for Szymon and Piotr: 0.6228837471783296\n",
      "Cohen's Kappa for Szymon and Kacper: 0.562758227667759\n",
      "Cohen's Kappa for Szymon and Filip: 0.5772241992882563\n"
     ]
    }
   ],
   "source": [
    "## FILIP\n",
    "taskdata = [[0, str(i), str(filip_ratings[i])] for i in range(0, len(filip_ratings))] \\\n",
    "           + [[1, str(i), str(piotr_ratings[i])] for i in range(0, len(piotr_ratings))]\n",
    "ratingtask = agreement.AnnotationTask(data=taskdata)\n",
    "print(f\"Cohen's Kappa for Filip and Piotr: \" + str(ratingtask.kappa()))\n",
    "taskdata = [[0, str(i), str(filip_ratings[i])] for i in range(0, len(filip_ratings))] \\\n",
    "           + [[1, str(i), str(kacper_ratings[i])] for i in range(0, len(kacper_ratings))]\n",
    "ratingtask = agreement.AnnotationTask(data=taskdata)\n",
    "print(f\"Cohen's Kappa for Filip and Kacper: \" + str(ratingtask.kappa()))\n",
    "taskdata = [[0, str(i), str(filip_ratings[i])] for i in range(0, len(filip_ratings))] \\\n",
    "           + [[1, str(i), str(szymon_ratings[i])] for i in range(0, len(szymon_ratings))]\n",
    "ratingtask = agreement.AnnotationTask(data=taskdata)\n",
    "print(f\"Cohen's Kappa for Filip and Szymon: \" + str(ratingtask.kappa()))\n",
    "print()\n",
    "## PIOTR\n",
    "taskdata = [[0, str(i), str(piotr_ratings[i])] for i in range(0, len(piotr_ratings))] \\\n",
    "           + [[1, str(i), str(filip_ratings[i])] for i in range(0, len(filip_ratings))]\n",
    "ratingtask = agreement.AnnotationTask(data=taskdata)\n",
    "print(f\"Cohen's Kappa for Piotr and Filip: \" + str(ratingtask.kappa()))\n",
    "taskdata = [[0, str(i), str(piotr_ratings[i])] for i in range(0, len(piotr_ratings))] \\\n",
    "           + [[1, str(i), str(kacper_ratings[i])] for i in range(0, len(kacper_ratings))]\n",
    "ratingtask = agreement.AnnotationTask(data=taskdata)\n",
    "print(f\"Cohen's Kappa for Piotr and Kacper: \" + str(ratingtask.kappa()))\n",
    "taskdata = [[0, str(i), str(piotr_ratings[i])] for i in range(0, len(piotr_ratings))] \\\n",
    "           + [[1, str(i), str(szymon_ratings[i])] for i in range(0, len(szymon_ratings))]\n",
    "ratingtask = agreement.AnnotationTask(data=taskdata)\n",
    "print(f\"Cohen's Kappa for Piotr and Szymon: \" + str(ratingtask.kappa()))\n",
    "print()\n",
    "## KACPER\n",
    "taskdata = [[0, str(i), str(kacper_ratings[i])] for i in range(0, len(kacper_ratings))] \\\n",
    "           + [[1, str(i), str(piotr_ratings[i])] for i in range(0, len(piotr_ratings))]\n",
    "ratingtask = agreement.AnnotationTask(data=taskdata)\n",
    "print(f\"Cohen's Kappa for Kacper and Piotr: \" + str(ratingtask.kappa()))\n",
    "taskdata = [[0, str(i), str(kacper_ratings[i])] for i in range(0, len(kacper_ratings))] \\\n",
    "           + [[1, str(i), str(filip_ratings[i])] for i in range(0, len(filip_ratings))]\n",
    "ratingtask = agreement.AnnotationTask(data=taskdata)\n",
    "print(f\"Cohen's Kappa for Kacper and Filip: \" + str(ratingtask.kappa()))\n",
    "taskdata = [[0, str(i), str(kacper_ratings[i])] for i in range(0, len(kacper_ratings))] \\\n",
    "           + [[1, str(i), str(szymon_ratings[i])] for i in range(0, len(szymon_ratings))]\n",
    "ratingtask = agreement.AnnotationTask(data=taskdata)\n",
    "print(f\"Cohen's Kappa for Kacper and Szymon: \" + str(ratingtask.kappa()))\n",
    "print()\n",
    "## Szymon\n",
    "taskdata = [[0, str(i), str(szymon_ratings[i])] for i in range(0, len(szymon_ratings))] \\\n",
    "           + [[1, str(i), str(piotr_ratings[i])] for i in range(0, len(piotr_ratings))]\n",
    "ratingtask = agreement.AnnotationTask(data=taskdata)\n",
    "print(f\"Cohen's Kappa for Szymon and Piotr: \" + str(ratingtask.kappa()))\n",
    "taskdata = [[0, str(i), str(szymon_ratings[i])] for i in range(0, len(szymon_ratings))] \\\n",
    "           + [[1, str(i), str(kacper_ratings[i])] for i in range(0, len(kacper_ratings))]\n",
    "ratingtask = agreement.AnnotationTask(data=taskdata)\n",
    "print(f\"Cohen's Kappa for Szymon and Kacper: \" + str(ratingtask.kappa()))\n",
    "taskdata = [[0, str(i), str(szymon_ratings[i])] for i in range(0, len(szymon_ratings))] \\\n",
    "           + [[1, str(i), str(filip_ratings[i])] for i in range(0, len(filip_ratings))]\n",
    "ratingtask = agreement.AnnotationTask(data=taskdata)\n",
    "print(f\"Cohen's Kappa for Szymon and Filip: \" + str(ratingtask.kappa()))"
   ],
   "metadata": {
    "collapsed": false,
    "pycharm": {
     "name": "#%%\n"
    }
   }
  },
  {
   "cell_type": "code",
   "execution_count": 10,
   "outputs": [],
   "source": [
    "third_annotation_session = pd.read_csv(\"../datasets/sentiment_data/third_annotation_session.csv\")"
   ],
   "metadata": {
    "collapsed": false,
    "pycharm": {
     "name": "#%%\n"
    }
   }
  },
  {
   "cell_type": "code",
   "execution_count": 11,
   "outputs": [],
   "source": [
    "filip_ratings = third_annotation_session['anotacja - Filip'].values\n",
    "piotr_ratings = third_annotation_session['anotacja - Piotr'].values\n",
    "kacper_ratings = third_annotation_session['anotacja - Kacper'].values\n",
    "szymon_ratings = third_annotation_session['anotacja - Szymon'].values"
   ],
   "metadata": {
    "collapsed": false,
    "pycharm": {
     "name": "#%%\n"
    }
   }
  },
  {
   "cell_type": "code",
   "execution_count": 12,
   "outputs": [
    {
     "name": "stdout",
     "output_type": "stream",
     "text": [
      "Cohen's kappa - third session: 0.6318452508810961\n"
     ]
    }
   ],
   "source": [
    "taskdata = [[0, str(i), str(filip_ratings[i])] for i in range(0, len(filip_ratings))] \\\n",
    "           + [[1, str(i), str(piotr_ratings[i])] for i in range(0, len(piotr_ratings))] \\\n",
    "           + [[2, str(i), str(kacper_ratings[i])] for i in range(0, len(kacper_ratings))] \\\n",
    "           + [[3, str(i), str(szymon_ratings[i])] for i in range(0, len(szymon_ratings))]\n",
    "ratingtask = agreement.AnnotationTask(data=taskdata)\n",
    "print(\"Cohen's kappa - third session: \" + str(ratingtask.kappa()))"
   ],
   "metadata": {
    "collapsed": false,
    "pycharm": {
     "name": "#%%\n"
    }
   }
  },
  {
   "cell_type": "markdown",
   "source": [
    "Kappa Cohen's pairwise - third session"
   ],
   "metadata": {
    "collapsed": false
   }
  },
  {
   "cell_type": "code",
   "execution_count": 13,
   "outputs": [
    {
     "name": "stdout",
     "output_type": "stream",
     "text": [
      "Cohen's Kappa for Filip and Piotr: 0.7014925373134329\n",
      "Cohen's Kappa for Filip and Kacper: 0.5990062837936577\n",
      "Cohen's Kappa for Filip and Szymon: 0.66723259762309\n",
      "\n",
      "Cohen's Kappa for Piotr and Filip: 0.7014925373134329\n",
      "Cohen's Kappa for Piotr and Kacper: 0.5851094890510948\n",
      "Cohen's Kappa for Piotr and Szymon: 0.6389315320847405\n",
      "\n",
      "Cohen's Kappa for Kacper and Piotr: 0.5851094890510948\n",
      "Cohen's Kappa for Kacper and Filip: 0.5990062837936577\n",
      "Cohen's Kappa for Kacper and Szymon: 0.5992990654205608\n",
      "\n",
      "Cohen's Kappa for Szymon and Piotr: 0.6389315320847404\n",
      "Cohen's Kappa for Szymon and Kacper: 0.5992990654205608\n",
      "Cohen's Kappa for Szymon and Filip: 0.66723259762309\n"
     ]
    }
   ],
   "source": [
    "## FILIP\n",
    "taskdata = [[0, str(i), str(filip_ratings[i])] for i in range(0, len(filip_ratings))] \\\n",
    "           + [[1, str(i), str(piotr_ratings[i])] for i in range(0, len(piotr_ratings))]\n",
    "ratingtask = agreement.AnnotationTask(data=taskdata)\n",
    "print(f\"Cohen's Kappa for Filip and Piotr: \" + str(ratingtask.kappa()))\n",
    "taskdata = [[0, str(i), str(filip_ratings[i])] for i in range(0, len(filip_ratings))] \\\n",
    "           + [[1, str(i), str(kacper_ratings[i])] for i in range(0, len(kacper_ratings))]\n",
    "ratingtask = agreement.AnnotationTask(data=taskdata)\n",
    "print(f\"Cohen's Kappa for Filip and Kacper: \" + str(ratingtask.kappa()))\n",
    "taskdata = [[0, str(i), str(filip_ratings[i])] for i in range(0, len(filip_ratings))] \\\n",
    "           + [[1, str(i), str(szymon_ratings[i])] for i in range(0, len(szymon_ratings))]\n",
    "ratingtask = agreement.AnnotationTask(data=taskdata)\n",
    "print(f\"Cohen's Kappa for Filip and Szymon: \" + str(ratingtask.kappa()))\n",
    "print()\n",
    "## PIOTR\n",
    "taskdata = [[0, str(i), str(piotr_ratings[i])] for i in range(0, len(piotr_ratings))] \\\n",
    "           + [[1, str(i), str(filip_ratings[i])] for i in range(0, len(filip_ratings))]\n",
    "ratingtask = agreement.AnnotationTask(data=taskdata)\n",
    "print(f\"Cohen's Kappa for Piotr and Filip: \" + str(ratingtask.kappa()))\n",
    "taskdata = [[0, str(i), str(piotr_ratings[i])] for i in range(0, len(piotr_ratings))] \\\n",
    "           + [[1, str(i), str(kacper_ratings[i])] for i in range(0, len(kacper_ratings))]\n",
    "ratingtask = agreement.AnnotationTask(data=taskdata)\n",
    "print(f\"Cohen's Kappa for Piotr and Kacper: \" + str(ratingtask.kappa()))\n",
    "taskdata = [[0, str(i), str(piotr_ratings[i])] for i in range(0, len(piotr_ratings))] \\\n",
    "           + [[1, str(i), str(szymon_ratings[i])] for i in range(0, len(szymon_ratings))]\n",
    "ratingtask = agreement.AnnotationTask(data=taskdata)\n",
    "print(f\"Cohen's Kappa for Piotr and Szymon: \" + str(ratingtask.kappa()))\n",
    "print()\n",
    "## KACPER\n",
    "taskdata = [[0, str(i), str(kacper_ratings[i])] for i in range(0, len(kacper_ratings))] \\\n",
    "           + [[1, str(i), str(piotr_ratings[i])] for i in range(0, len(piotr_ratings))]\n",
    "ratingtask = agreement.AnnotationTask(data=taskdata)\n",
    "print(f\"Cohen's Kappa for Kacper and Piotr: \" + str(ratingtask.kappa()))\n",
    "taskdata = [[0, str(i), str(kacper_ratings[i])] for i in range(0, len(kacper_ratings))] \\\n",
    "           + [[1, str(i), str(filip_ratings[i])] for i in range(0, len(filip_ratings))]\n",
    "ratingtask = agreement.AnnotationTask(data=taskdata)\n",
    "print(f\"Cohen's Kappa for Kacper and Filip: \" + str(ratingtask.kappa()))\n",
    "taskdata = [[0, str(i), str(kacper_ratings[i])] for i in range(0, len(kacper_ratings))] \\\n",
    "           + [[1, str(i), str(szymon_ratings[i])] for i in range(0, len(szymon_ratings))]\n",
    "ratingtask = agreement.AnnotationTask(data=taskdata)\n",
    "print(f\"Cohen's Kappa for Kacper and Szymon: \" + str(ratingtask.kappa()))\n",
    "print()\n",
    "## Szymon\n",
    "taskdata = [[0, str(i), str(szymon_ratings[i])] for i in range(0, len(szymon_ratings))] \\\n",
    "           + [[1, str(i), str(piotr_ratings[i])] for i in range(0, len(piotr_ratings))]\n",
    "ratingtask = agreement.AnnotationTask(data=taskdata)\n",
    "print(f\"Cohen's Kappa for Szymon and Piotr: \" + str(ratingtask.kappa()))\n",
    "taskdata = [[0, str(i), str(szymon_ratings[i])] for i in range(0, len(szymon_ratings))] \\\n",
    "           + [[1, str(i), str(kacper_ratings[i])] for i in range(0, len(kacper_ratings))]\n",
    "ratingtask = agreement.AnnotationTask(data=taskdata)\n",
    "print(f\"Cohen's Kappa for Szymon and Kacper: \" + str(ratingtask.kappa()))\n",
    "taskdata = [[0, str(i), str(szymon_ratings[i])] for i in range(0, len(szymon_ratings))] \\\n",
    "           + [[1, str(i), str(filip_ratings[i])] for i in range(0, len(filip_ratings))]\n",
    "ratingtask = agreement.AnnotationTask(data=taskdata)\n",
    "print(f\"Cohen's Kappa for Szymon and Filip: \" + str(ratingtask.kappa()))"
   ],
   "metadata": {
    "collapsed": false,
    "pycharm": {
     "name": "#%%\n"
    }
   }
  }
 ],
 "metadata": {
  "kernelspec": {
   "display_name": "Python 3",
   "language": "python",
   "name": "python3"
  },
  "language_info": {
   "codemirror_mode": {
    "name": "ipython",
    "version": 2
   },
   "file_extension": ".py",
   "mimetype": "text/x-python",
   "name": "python",
   "nbconvert_exporter": "python",
   "pygments_lexer": "ipython2",
   "version": "2.7.6"
  }
 },
 "nbformat": 4,
 "nbformat_minor": 0
}