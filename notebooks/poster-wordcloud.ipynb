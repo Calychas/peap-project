{
 "cells": [
  {
   "cell_type": "code",
   "execution_count": 1,
   "metadata": {},
   "outputs": [],
   "source": [
    "import src.visualization.wordcloud as wc\n",
    "import pandas as pd\n",
    "import os\n",
    "from PIL import Image\n",
    "import numpy as np\n",
    "from wordcloud import WordCloud\n",
    "from src.data.utils import get_frequencies\n",
    "import plotly.express as px\n",
    "import matplotlib.pyplot as plt\n"
   ]
  },
  {
   "cell_type": "code",
   "execution_count": 2,
   "metadata": {},
   "outputs": [],
   "source": [
    "df = pd.read_pickle(os.path.join(\"datasets\", \"tweets_cleaned_lemma_stopwords.pkl.gz\")).reset_index(drop=True)"
   ]
  },
  {
   "cell_type": "code",
   "execution_count": 3,
   "metadata": {},
   "outputs": [],
   "source": [
    "frequencies = get_frequencies(df[\"tweet\"])\n"
   ]
  },
  {
   "cell_type": "code",
   "execution_count": 4,
   "metadata": {},
   "outputs": [],
   "source": [
    "image_file = Image.open(os.path.join(\"assets\", \"keyhole-silhouette1.jpg\"))\n",
    "# image_file = image_file.convert('1')\n",
    "mask = np.array(image_file)\n",
    "mask[mask < 255] = 0"
   ]
  },
  {
   "cell_type": "code",
   "execution_count": 5,
   "metadata": {},
   "outputs": [
    {
     "data": {
      "text/plain": "(array([  0, 255], dtype=uint8), array([18513093,  6400827], dtype=int64))"
     },
     "execution_count": 5,
     "metadata": {},
     "output_type": "execute_result"
    }
   ],
   "source": [
    "np.unique(mask, return_counts=True)"
   ]
  },
  {
   "cell_type": "code",
   "execution_count": 6,
   "metadata": {},
   "outputs": [],
   "source": [
    "wordcloud = WordCloud(\n",
    "    width=2048, height=4055, background_color=\"rgba(255, 255, 255, 0)\", mode=\"RGBA\", mask=mask\n",
    ").generate_from_frequencies(frequencies=frequencies)\n"
   ]
  },
  {
   "cell_type": "code",
   "execution_count": 12,
   "metadata": {},
   "outputs": [
    {
     "data": {
      "text/plain": "<wordcloud.wordcloud.WordCloud at 0x14b80079d60>"
     },
     "execution_count": 12,
     "metadata": {},
     "output_type": "execute_result"
    }
   ],
   "source": [
    "def color_func(word, font_size, position,orientation,random_state=None, **kwargs):\n",
    "    # return np.random.choice(np.array([\"#FFA15A\", \"#EF553B\", \"#AB63FA\", \"#00CC96\", \"#636EFA\", \"#19D3F3\"]))\n",
    "    return np.random.choice(np.array([\"#1da1f2\", \"#1b9eee\", \"#199bea\", \"#1797e6\", \"#1594e2\", \"#1491de\", \"#128eda\", \"#108ad6\", \"#0e87d2\", \"#0c84ce\"]))\n",
    "\n",
    "\n",
    "wordcloud.recolor(color_func = color_func)"
   ]
  },
  {
   "cell_type": "code",
   "execution_count": 14,
   "metadata": {},
   "outputs": [],
   "source": [
    "wc_svg = wordcloud.to_file(os.path.join(\"assets\", \"wc_test1.png\"))\n",
    "# with open(os.path.join(\"assets\", \"wc.svg\"), 'w') as f:\n",
    "    # f.write(wc_svg)"
   ]
  },
  {
   "cell_type": "code",
   "execution_count": 13,
   "metadata": {},
   "outputs": [],
   "source": [
    "fig = px.imshow(wordcloud)\n",
    "\n",
    "fig.show(renderer=\"browser\")"
   ]
  }
 ],
 "metadata": {
  "kernelspec": {
   "display_name": "Python 3.8.2  ('venv': venv)",
   "metadata": {
    "interpreter": {
     "hash": "e4ca8d5dec42b1de1a9f7159771206329d6a77b4a663ee7c68baa09fe1adf5e5"
    }
   },
   "name": "python3"
  },
  "language_info": {
   "name": "python",
   "nbconvert_exporter": "python",
   "version": "3.8.2"
  },
  "orig_nbformat": 2
 },
 "nbformat": 4,
 "nbformat_minor": 2
}