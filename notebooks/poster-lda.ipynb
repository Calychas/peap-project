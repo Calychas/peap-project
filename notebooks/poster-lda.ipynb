{
 "cells": [
  {
   "cell_type": "code",
   "execution_count": 1,
   "metadata": {},
   "outputs": [],
   "source": [
    "import pickle as pkl\n",
    "import os\n",
    "import pandas as pd\n",
    "import plotly.express as px"
   ]
  },
  {
   "cell_type": "code",
   "execution_count": 2,
   "metadata": {},
   "outputs": [],
   "source": [
    "with open(os.path.join(\"datasets\", \"lda.pkl.gz\"), \"rb\") as f:\n",
    "    lda = pkl.load(f)"
   ]
  },
  {
   "cell_type": "code",
   "execution_count": 3,
   "metadata": {},
   "outputs": [],
   "source": [
    "with open(os.path.join(\"datasets\", \"vectorizer.pkl.gz\"), \"rb\") as f:\n",
    "    vectorizer = pkl.load(f)"
   ]
  },
  {
   "cell_type": "code",
   "execution_count": 4,
   "metadata": {},
   "outputs": [],
   "source": [
    "df = pd.read_pickle(os.path.join(\"datasets\", \"tweets_cleaned_lemma_stopwords.pkl.gz\"))"
   ]
  },
  {
   "cell_type": "code",
   "execution_count": 5,
   "metadata": {},
   "outputs": [],
   "source": [
    "tweets = df.tweet.to_list()\n",
    "counts = vectorizer.transform(tweets)"
   ]
  },
  {
   "cell_type": "code",
   "execution_count": 6,
   "metadata": {},
   "outputs": [],
   "source": [
    "x = lda.transform(counts)"
   ]
  },
  {
   "cell_type": "code",
   "execution_count": 7,
   "metadata": {},
   "outputs": [],
   "source": [
    "x_sum = x.sum(axis=0)"
   ]
  },
  {
   "cell_type": "code",
   "execution_count": 8,
   "metadata": {},
   "outputs": [],
   "source": [
    "proba_per_topic = x_sum / x_sum.sum()"
   ]
  },
  {
   "cell_type": "code",
   "execution_count": 9,
   "metadata": {},
   "outputs": [
    {
     "data": {
      "text/plain": "array([0.09151091, 0.11187487, 0.11126361, 0.09082755, 0.11243592,\n       0.09487073, 0.10997889, 0.09962241, 0.08382289, 0.09379223])"
     },
     "execution_count": 9,
     "metadata": {},
     "output_type": "execute_result"
    }
   ],
   "source": [
    "proba_per_topic"
   ]
  },
  {
   "cell_type": "code",
   "execution_count": 10,
   "metadata": {},
   "outputs": [],
   "source": [
    "df_proba = pd.DataFrame({\"proba\": proba_per_topic}).reset_index()\n",
    "df_proba[\"index\"] = df_proba[\"index\"].astype(str)"
   ]
  },
  {
   "cell_type": "code",
   "execution_count": 11,
   "metadata": {},
   "outputs": [],
   "source": [
    "fig = px.bar(df_proba, x=\"index\", y=\"proba\", color=\"index\", color_discrete_sequence=[\"#1da1f2\", \"#1b9eee\", \"#199bea\", \"#1797e6\", \"#1594e2\", \"#1491de\", \"#128eda\", \"#108ad6\", \"#0e87d2\", \"#0c84ce\"])\n",
    "fig.update_layout(showlegend=False, xaxis_title=\"Topic\", yaxis_title=\"Topic's share\", yaxis_tickformat=\",.0%\", xaxis_tickmode='linear')\n",
    "fig.update_layout(\n",
    "    dict(\n",
    "        paper_bgcolor='rgba(0,0,0,0)',\n",
    "        plot_bgcolor='rgba(0,0,0,0)'\n",
    "    )\n",
    ")\n",
    "fig.show(renderer=\"browser\")\n"
   ]
  },
  {
   "cell_type": "code",
   "execution_count": 12,
   "metadata": {},
   "outputs": [],
   "source": [
    "fig.update_layout(\n",
    "    font_family=\"Lato\",\n",
    "    font_size=60\n",
    ")\n",
    "fig.write_image(os.path.join(\"assets\", \"poster-lda.png\"), width=3242, height=2000)"
   ]
  },
  {
   "cell_type": "code",
   "execution_count": 11,
   "metadata": {},
   "outputs": [],
   "source": [
    "import numpy as np\n",
    "x_max_topic_1 = x.argmax(axis=1) == 1 "
   ]
  },
  {
   "cell_type": "code",
   "execution_count": 24,
   "metadata": {},
   "outputs": [
    {
     "data": {
      "text/plain": "array([False, False, False, ..., False, False, False])"
     },
     "execution_count": 24,
     "metadata": {},
     "output_type": "execute_result"
    }
   ],
   "source": [
    "x_max_topic_1"
   ]
  },
  {
   "cell_type": "code",
   "execution_count": 30,
   "metadata": {},
   "outputs": [],
   "source": [
    "tweets_for_topic_1 = np.array(tweets)[x_max_topic_1]"
   ]
  },
  {
   "cell_type": "code",
   "execution_count": 36,
   "metadata": {},
   "outputs": [
    {
     "data": {
      "text/plain": "array(['fakt fakt', ' zaufanie zaufanie', ' zaufanie 😊😊😊', ...,\n       ' człowiek robota kandydat parlament platforma',\n       'minister sprawa grzegorz schetyna państwo wesprzeć akcja',\n       ' rada platforma kształt lista jarosław urbaniak'], dtype='<U258')"
     },
     "execution_count": 36,
     "metadata": {},
     "output_type": "execute_result"
    }
   ],
   "source": [
    "tweets_for_topic_1"
   ]
  },
  {
   "cell_type": "code",
   "execution_count": 37,
   "metadata": {},
   "outputs": [],
   "source": [
    "from wordcloud import WordCloud\n",
    "from src.data.utils import get_frequencies\n",
    "frequencies = get_frequencies(pd.Series(tweets_for_topic_1))\n"
   ]
  },
  {
   "cell_type": "code",
   "execution_count": 13,
   "metadata": {},
   "outputs": [],
   "source": [
    "from PIL import Image\n",
    "image_file = Image.open(os.path.join(\"assets\", \"wc_topic_mask.jpg\"))\n",
    "# image_file = image_file.convert('1')\n",
    "mask = np.array(image_file)\n",
    "mask[mask < 255] = 0"
   ]
  },
  {
   "cell_type": "code",
   "execution_count": 42,
   "metadata": {},
   "outputs": [],
   "source": [
    "wordcloud = WordCloud(\n",
    "    width=4096, height=2048, background_color=\"rgba(255, 255, 255, 0)\", mode=\"RGBA\", mask=mask\n",
    ").generate_from_frequencies(frequencies=frequencies)"
   ]
  },
  {
   "cell_type": "code",
   "execution_count": 14,
   "metadata": {},
   "outputs": [],
   "source": [
    "def color_func(word, font_size, position,orientation,random_state=None, **kwargs):\n",
    "    return np.random.choice(np.array([\"#1da1f2\", \"#1b9eee\", \"#199bea\", \"#1797e6\", \"#1594e2\", \"#1491de\", \"#128eda\", \"#108ad6\", \"#0e87d2\", \"#0c84ce\"]))\n"
   ]
  },
  {
   "cell_type": "code",
   "execution_count": null,
   "metadata": {},
   "outputs": [],
   "source": [
    "\n",
    "wordcloud.recolor(color_func = color_func)"
   ]
  },
  {
   "cell_type": "code",
   "execution_count": 46,
   "metadata": {},
   "outputs": [],
   "source": [
    "fig = px.imshow(wordcloud)\n",
    "fig.show(renderer=\"browser\")"
   ]
  },
  {
   "cell_type": "code",
   "execution_count": 47,
   "metadata": {},
   "outputs": [],
   "source": [
    "wc_svg = wordcloud.to_file(os.path.join(\"assets\", \"wc_topic_1_test.png\"))"
   ]
  },
  {
   "cell_type": "code",
   "execution_count": 17,
   "metadata": {},
   "outputs": [],
   "source": [
    "x_max_topic_2 = x.argmax(axis=1) == 2\n",
    "tweets_for_topic_2 = np.array(tweets)[x_max_topic_2]\n",
    "from wordcloud import WordCloud\n",
    "from src.data.utils import get_frequencies\n",
    "frequencies = get_frequencies(pd.Series(tweets_for_topic_2))\n",
    "wordcloud = WordCloud(\n",
    "    width=4096, height=2048, background_color=\"rgba(255, 255, 255, 0)\", mode=\"RGBA\", mask=mask\n",
    ").generate_from_frequencies(frequencies=frequencies)\n",
    "wordcloud.recolor(color_func = color_func)\n",
    "wc_svg = wordcloud.to_file(os.path.join(\"assets\", \"wc_topic_2_test.png\"))"
   ]
  }
 ],
 "metadata": {
  "kernelspec": {
   "display_name": "Python 3.8.2  ('venv': venv)",
   "metadata": {
    "interpreter": {
     "hash": "e4ca8d5dec42b1de1a9f7159771206329d6a77b4a663ee7c68baa09fe1adf5e5"
    }
   },
   "name": "python3"
  },
  "language_info": {
   "codemirror_mode": {
    "name": "ipython",
    "version": 3
   },
   "file_extension": ".py",
   "mimetype": "text/x-python",
   "name": "python",
   "nbconvert_exporter": "python",
   "pygments_lexer": "ipython3",
   "version": "3.8.2"
  },
  "orig_nbformat": 2
 },
 "nbformat": 4,
 "nbformat_minor": 2
}