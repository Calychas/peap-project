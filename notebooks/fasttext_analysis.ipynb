{
 "cells": [
  {
   "cell_type": "code",
   "execution_count": null,
   "metadata": {
    "pycharm": {
     "name": "#%%\n"
    }
   },
   "outputs": [],
   "source": [
    "%load_ext autoreload\n",
    "%autoreload 2"
   ]
  },
  {
   "cell_type": "code",
   "execution_count": 30,
   "metadata": {
    "collapsed": true
   },
   "outputs": [],
   "source": [
    "import json\n",
    "import os\n",
    "import fasttext\n",
    "import matplotlib.pyplot as plt\n",
    "import pandas as pd\n",
    "import seaborn as sns\n",
    "from sklearn.metrics import f1_score, classification_report, confusion_matrix\n",
    "from src.models.fasttext_research import get_dataframes_for_all_files, get_train_val_test_dataframes\n",
    "\n",
    "PATH_TO_DATASETS = \"../datasets\"\n",
    "PATH_TO_POLEMO_CONLL = \"../datasets/polemo/dataset_conll\"\n",
    "\n",
    "with open(os.path.join(\"..\", \"datasets\", \"emojis.json\"), encoding=\"utf-8\") as f:\n",
    "    emoji_mapping = json.load(f)\n",
    "\n",
    "emoji_mapping_items = emoji_mapping.items()"
   ]
  },
  {
   "cell_type": "code",
   "execution_count": null,
   "metadata": {
    "pycharm": {
     "name": "#%%\n"
    }
   },
   "outputs": [],
   "source": [
    "files = {\n",
    "    \"train_polemo\": os.path.join(PATH_TO_POLEMO_CONLL, \"all.sentence.train_processed.csv\"),\n",
    "    \"dev_polemo\": os.path.join(PATH_TO_POLEMO_CONLL, \"all.sentence.dev_processed.csv\"),\n",
    "    \"test_polemo\": os.path.join(PATH_TO_POLEMO_CONLL, \"all.sentence.test_processed.csv\"),\n",
    "    \"annotation\": os.path.join(PATH_TO_DATASETS, \"sentiment_data\", \"political_tweets_annotations.csv\"),\n",
    "    \"wordnet_sentiment\": os.path.join(PATH_TO_DATASETS, \"sentiment_data\", \"sentiment_from_plwordnet.csv\")\n",
    "}\n",
    "\n",
    "dicts_dfs = get_dataframes_for_all_files(files, PATH_TO_DATASETS, emoji_mapping_items)\n",
    "\n",
    "for dataset_name, dataset_data in dicts_dfs.items():\n",
    "    print(f\"Number of rows for {dataset_name}: {len(dataset_data['dataframe'])}\")\n",
    "\n",
    "train_tweets, val_tweets, test_tweets = get_train_val_test_dataframes(dicts_dfs['annotation']['texts'],\n",
    "                                                                      dicts_dfs['annotation']['labels'],\n",
    "                                                                      train_size=0.8, val_size=0.1, test_size=0.1)\n",
    "\n",
    "train_wordnet, val_wordnet, test_wordnet = get_train_val_test_dataframes(dicts_dfs['wordnet_sentiment']['texts'],\n",
    "                                                                         dicts_dfs['wordnet_sentiment']['labels'],\n",
    "                                                                         train_size=0.8, val_size=0.1,\n",
    "                                                                         test_size=0.1)\n",
    "\n",
    "train_polemo = dicts_dfs['train_polemo']['dataframe'][[\"text\", \"label\"]]\n",
    "val_polemo = dicts_dfs['dev_polemo']['dataframe'][[\"text\", \"label\"]]\n",
    "test_polemo = dicts_dfs['test_polemo']['dataframe'][[\"text\", \"label\"]]"
   ]
  },
  {
   "cell_type": "code",
   "execution_count": 5,
   "metadata": {
    "pycharm": {
     "name": "#%%\n"
    }
   },
   "outputs": [],
   "source": [
    "pretrained_word_vectors = os.path.join(\"..\", \"trained_models\", \"kgr10.plain.skipgram.dim300.neg10.vec\")"
   ]
  },
  {
   "cell_type": "code",
   "execution_count": null,
   "metadata": {
    "pycharm": {
     "is_executing": true,
     "name": "#%%\n"
    }
   },
   "outputs": [],
   "source": [
    "best_model = fasttext.train_supervised(input=os.path.join(PATH_TO_DATASETS, \"sentiment_data\", \"train_polemo_tweets_data.txt\"),\n",
    "                                               loss=\"ns\", wordNgrams=10, neg=5,\n",
    "                                               dim=500, lr=0.003,\n",
    "                                               epoch=500, verbose=1,\n",
    "                                               thread=1, seed=42,\n",
    "                                               label_prefix='__label__')"
   ]
  },
  {
   "cell_type": "code",
   "execution_count": 7,
   "metadata": {
    "pycharm": {
     "name": "#%%\n"
    }
   },
   "outputs": [
    {
     "name": "stdout",
     "output_type": "stream",
     "text": [
      "F1-score for test tweets: 0.4367953431372549\n",
      "F1-score for test polemo: 0.6417475928888369\n",
      "F1-score for test wordnet: 0.2833707972180569\n",
      "\n"
     ]
    }
   ],
   "source": [
    "polemo_test_results = best_model.predict(list(test_polemo[\"text\"].values))\n",
    "wordnet_test_results = best_model.predict(list(test_wordnet[\"text\"].values))\n",
    "tweets_test_results = best_model.predict(list(test_tweets[\"text\"].values))\n",
    "\n",
    "print(f\"F1-score for test tweets: {f1_score(tweets_test_results[0],list(test_tweets['label'].values),average='macro')}\")\n",
    "print(f\"F1-score for test polemo: {f1_score(polemo_test_results[0],list(test_polemo['label'].values),average='macro')}\")\n",
    "print(f\"F1-score for test wordnet: {f1_score(wordnet_test_results[0],list(test_wordnet['label'].values),average='macro')}\")\n",
    "print()"
   ]
  },
  {
   "cell_type": "code",
   "execution_count": null,
   "metadata": {
    "pycharm": {
     "name": "#%%\n"
    }
   },
   "outputs": [],
   "source": [
    "print(\"Classification report for political tweets\")\n",
    "print(classification_report(list(test_tweets['label'].values), tweets_test_results[0]))\n",
    "\n",
    "print(\"Classification report for polemo data\")\n",
    "print(classification_report(list(test_polemo['label'].values), polemo_test_results[0]))\n",
    "\n",
    "print(\"Classification report for wordnet data\")\n",
    "print(classification_report(list(test_wordnet['label'].values), wordnet_test_results[0]))"
   ]
  },
  {
   "cell_type": "code",
   "execution_count": 36,
   "metadata": {
    "pycharm": {
     "name": "#%%\n"
    }
   },
   "outputs": [
    {
     "name": "stderr",
     "output_type": "stream",
     "text": [
      "c:\\users\\filip\\pycharmprojects\\sma\\project-politician_embeddings_analysis\\venv\\lib\\site-packages\\sklearn\\utils\\validation.py:67: FutureWarning: Pass labels=['__label__ambiguous', '__label__negative', '__label__neutral', '__label__positive'] as keyword args. From version 0.25 passing these as positional arguments will result in an error\n",
      "  warnings.warn(\"Pass {} as keyword args. From version 0.25 \"\n"
     ]
    },
    {
     "data": {
      "image/png": "[encoded data removed]",
      "text/plain": [
       "<Figure size 432x288 with 2 Axes>"
      ]
     },
     "metadata": {
      "needs_background": "light"
     },
     "output_type": "display_data"
    }
   ],
   "source": [
    "labels = ['__label__ambiguous', '__label__negative', '__label__neutral', '__label__positive']\n",
    "cm = confusion_matrix(list(test_tweets['label'].values), tweets_test_results[0], labels)\n",
    "df_cm = pd.DataFrame(cm, index = labels,\n",
    "                  columns = labels)\n",
    "sns.heatmap(df_cm, annot=True)\n",
    "plt.savefig(os.path.join(\"..\", \"reports\", \"plots\", \"final_heat_map_fasttext.png\"))"
   ]
  },
  {
   "cell_type": "code",
   "execution_count": null,
   "metadata": {
    "pycharm": {
     "name": "#%%\n"
    }
   },
   "outputs": [],
   "source": [
    "test_texts = list(test_tweets[\"text\"].values)\n",
    "test_labels = list(test_tweets[\"label\"].values)\n",
    "print(\"Tweets which were incorrrectly predicted:\")\n",
    "for i in range(len(test_texts)):\n",
    "    pred = best_model.predict([test_texts[i]])\n",
    "    if test_labels[i] != pred[0][0][0]:\n",
    "        print(f\"Tweet text: {test_texts[i]}\")\n",
    "        print(f\"\\t True label: {test_labels[i]}, predicted label: {pred[0][0][0]}, probability: {pred[1][0][0]}\")\n",
    "        print()"
   ]
  }
 ],
 "metadata": {
  "kernelspec": {
   "display_name": "Python 3",
   "language": "python",
   "name": "python3"
  },
  "language_info": {
   "codemirror_mode": {
    "name": "ipython",
    "version": 3
   },
   "file_extension": ".py",
   "mimetype": "text/x-python",
   "name": "python",
   "nbconvert_exporter": "python",
   "pygments_lexer": "ipython3",
   "version": "3.8.2"
  }
 },
 "nbformat": 4,
 "nbformat_minor": 1
}