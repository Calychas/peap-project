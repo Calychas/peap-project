{
 "cells": [
  {
   "cell_type": "code",
   "execution_count": 1,
   "metadata": {
    "collapsed": true
   },
   "outputs": [],
   "source": [
    "import pandas as pd\n",
    "import numpy as np\n",
    "import os\n",
    "import fasttext\n",
    "import json\n",
    "from sklearn.metrics import f1_score, classification_report\n",
    "from sklearn.model_selection import train_test_split\n",
    "\n",
    "PATH_TO_DATASETS = \"../datasets\"\n",
    "PATH_TO_POLEMO_CONLL = \"../datasets/polemo/dataset_conll\""
   ]
  },
  {
   "cell_type": "code",
   "execution_count": 2,
   "metadata": {
    "pycharm": {
     "name": "#%%\n"
    }
   },
   "outputs": [],
   "source": [
    "files = {\n",
    "    \"train\": os.path.join(PATH_TO_POLEMO_CONLL,\"all.sentence.train_processed.csv\"),\n",
    "    \"dev\": os.path.join(PATH_TO_POLEMO_CONLL,\"all.sentence.dev_processed.csv\"),\n",
    "    \"test\": os.path.join(PATH_TO_POLEMO_CONLL,\"all.sentence.test_processed.csv\"),\n",
    "    \"annotation\": os.path.join(PATH_TO_DATASETS, \"sentiment_data\", \"political_tweets_annotations.csv\")\n",
    "}"
   ]
  },
  {
   "cell_type": "code",
   "execution_count": 3,
   "metadata": {
    "pycharm": {
     "name": "#%%\n"
    }
   },
   "outputs": [],
   "source": [
    "with open(os.path.join(\"..\", \"datasets\", \"emojis.json\"), encoding=\"utf-8\") as f:\n",
    "    emoji_mapping = json.load(f)\n",
    "\n",
    "emoji_mapping_items = emoji_mapping.items()\n",
    "def emoji2text_tweet(tweet: str) -> str:\n",
    "    text = tweet\n",
    "    for emoji, emoji_text in emoji_mapping_items:\n",
    "        text = text.replace(emoji, f\"<{emoji_text}>\")\n",
    "    return text"
   ]
  },
  {
   "cell_type": "code",
   "execution_count": 4,
   "metadata": {
    "pycharm": {
     "name": "#%%\n"
    }
   },
   "outputs": [],
   "source": [
    "def remove_quotes_from_saved_file(txt_path: str):\n",
    "    text = \"\"\n",
    "    with open(txt_path, \"r\", encoding=\"utf-8\") as f:\n",
    "        for line in f:\n",
    "            if line[0] == \"\\\"\" and line[-2] == \"\\\"\":\n",
    "                line = line[1:]\n",
    "                line = line[:-2] + \"\\n\"\n",
    "            text += line\n",
    "\n",
    "    os.remove(txt_path)\n",
    "\n",
    "    with open(txt_path, \"w\", encoding=\"utf-8\") as f:\n",
    "        f.write(text)"
   ]
  },
  {
   "cell_type": "code",
   "execution_count": 5,
   "metadata": {
    "pycharm": {
     "name": "#%%\n"
    }
   },
   "outputs": [],
   "source": [
    "data_for_fasttext = {}\n",
    "for dataset, file_path in files.items():\n",
    "    df = pd.read_csv(file_path)\n",
    "    df = df[['label','text']]\n",
    "    df['label'] = \"__label__\" +  df['label']\n",
    "    df['text'] = df['text'].apply(emoji2text_tweet)\n",
    "    df['text'] = df['text'].apply(lambda string: string.lower())\n",
    "    df['text'] = df['text'].apply(lambda string: string.replace(\"#\",\"\"))\n",
    "    df['row'] = df['label'] + \" \" + df['text']\n",
    "    path = os.path.join(PATH_TO_DATASETS, \"sentiment_data\", f\"{dataset}_data.txt\")\n",
    "    df['row'].to_csv(path, index=False, header=False)\n",
    "    remove_quotes_from_saved_file(path)\n",
    "    data_for_fasttext[dataset] = {}\n",
    "    data_for_fasttext[dataset][\"labels\"] = list(df['label'].values)\n",
    "    data_for_fasttext[dataset][\"texts\"] = list(df['text'].values)\n",
    "    data_for_fasttext[dataset][\"dataframe\"] = df"
   ]
  },
  {
   "cell_type": "code",
   "execution_count": 6,
   "metadata": {
    "pycharm": {
     "name": "#%%\n"
    }
   },
   "outputs": [],
   "source": [
    "tweets_data = data_for_fasttext['annotation']\n",
    "texts_train_val, texts_test, labels_train_val, labels_test = train_test_split(tweets_data['texts'], tweets_data['labels'], test_size=0.1, random_state=42)\n",
    "texts_train, texts_val, labels_train, labels_val = train_test_split(texts_train_val, labels_train_val, test_size=1/9, random_state=42)\n",
    "\n",
    "train_polemo = data_for_fasttext['train']['dataframe'][[\"text\", \"label\"]]\n",
    "val_polemo = data_for_fasttext['dev']['dataframe'][[\"text\", \"label\"]]\n",
    "test_polemo = data_for_fasttext['test']['dataframe'][[\"text\", \"label\"]]\n",
    "\n",
    "train_tweets = pd.DataFrame(data={\"text\": texts_train, \"label\": labels_train})\n",
    "val_tweets = pd.DataFrame(data={\"text\": texts_val, \"label\": labels_val})\n",
    "test_tweets = pd.DataFrame(data={\"text\": texts_test, \"label\": labels_test})\n",
    "\n",
    "train = train_polemo.append(train_tweets)\n",
    "val = val_polemo.append(val_tweets)\n",
    "test = test_polemo.append(test_tweets)\n",
    "\n",
    "train['row'] = train['label'] + \" \" + train['text']\n",
    "val['row'] = val['label'] + \" \" + val['text']\n",
    "test['row'] = test['label'] + \" \" + test['text']\n",
    "\n",
    "train['row'].to_csv(os.path.join(PATH_TO_DATASETS, \"sentiment_data\", f\"full_train_data.txt\"), index=False, header=False)\n",
    "val['row'].to_csv(os.path.join(PATH_TO_DATASETS, \"sentiment_data\", f\"full_val_data.txt\"), index=False, header=False)\n",
    "test['row'].to_csv(os.path.join(PATH_TO_DATASETS, \"sentiment_data\", f\"full_test_data.txt\"), index=False, header=False)\n",
    "remove_quotes_from_saved_file(os.path.join(PATH_TO_DATASETS, \"sentiment_data\", f\"full_train_data.txt\"))\n",
    "remove_quotes_from_saved_file(os.path.join(PATH_TO_DATASETS, \"sentiment_data\", f\"full_val_data.txt\"))\n",
    "remove_quotes_from_saved_file(os.path.join(PATH_TO_DATASETS, \"sentiment_data\", f\"full_test_data.txt\"))"
   ]
  },
  {
   "cell_type": "code",
   "execution_count": 7,
   "metadata": {
    "pycharm": {
     "name": "#%%\n"
    }
   },
   "outputs": [
    {
     "name": "stdout",
     "output_type": "stream",
     "text": [
      "Training classifier only on PolEmo training data...\n",
      "F1-score for all tweets: 0.29374087451331876\n",
      "F1-score for test set of PolEmo: 0.5863994076552392\n",
      "\n",
      "Training classifier on PolEmo training data and 80% of political tweets\n",
      "F1-score for test set of political tweets: 0.3604167498303461\n",
      "F1-score for test set of PolEmo: 0.5882343321594454\n",
      "\n"
     ]
    }
   ],
   "source": [
    "print(\"Training classifier only on PolEmo training data...\")\n",
    "model =fasttext.train_supervised(input=os.path.join(PATH_TO_DATASETS, \"sentiment_data\", \"train_data.txt\"), wordNgrams=1, neg=5,dim=300, lr=0.005, epoch=500, loss=\"ns\", verbose=1, label_prefix='__label__')\n",
    "test_results = model.predict(data_for_fasttext[\"test\"][\"texts\"])\n",
    "annotation_results = model.predict(data_for_fasttext[\"annotation\"][\"texts\"])\n",
    "\n",
    "print(f\"F1-score for all tweets: {f1_score(annotation_results[0],data_for_fasttext['annotation']['labels'],average='macro')}\")\n",
    "print(f\"F1-score for test set of PolEmo: {f1_score(test_results[0],data_for_fasttext['test']['labels'],average='macro')}\")\n",
    "print()\n",
    "\n",
    "print(\"Training classifier on PolEmo training data and 80% of political tweets\")\n",
    "model =fasttext.train_supervised(input=os.path.join(PATH_TO_DATASETS, \"sentiment_data\", \"full_train_data.txt\"), wordNgrams=1, neg=5,dim=300, lr=0.005, epoch=500, loss=\"ns\", verbose=1, label_prefix='__label__')\n",
    "test_results = model.predict(list(test_polemo[\"text\"].values))\n",
    "annotation_results = model.predict(list(test_tweets['text'].values))\n",
    "\n",
    "print(f\"F1-score for test set of political tweets: {f1_score(annotation_results[0],list(test_tweets['label'].values),average='macro')}\")\n",
    "print(f\"F1-score for test set of PolEmo: {f1_score(test_results[0],list(test_polemo['label'].values),average='macro')}\")\n",
    "print()"
   ]
  },
  {
   "cell_type": "code",
   "execution_count": null,
   "metadata": {
    "pycharm": {
     "is_executing": true,
     "name": "#%%\n"
    }
   },
   "outputs": [],
   "source": [
    "dims = []\n",
    "ngrams = []\n",
    "losses = []\n",
    "negs = []\n",
    "tweets_f1_scores = []\n",
    "dev_f1_scores = []\n",
    "for dim in [300, 500]:\n",
    "    for ngram in [1,2,3,4,5]:\n",
    "        for method in [\"hs\", \"ns\", \"softmax\"]:\n",
    "            for neg in [5,10,15,20]:\n",
    "                model =fasttext.train_supervised(input=os.path.join(PATH_TO_DATASETS, \"sentiment_data\", \"full_train_data.txt\"), wordNgrams=ngram, neg=neg,dim=dim, lr=0.005, epoch=500, loss=method, verbose=1, label_prefix='__label__')\n",
    "                dev_results = model.predict(list(val_polemo[\"text\"].values))\n",
    "                annotation_results = model.predict(list(val_tweets[\"text\"].values))\n",
    "                dims.append(dim)\n",
    "                ngrams.append(ngram)\n",
    "                losses.append(method)\n",
    "                negs.append(neg)\n",
    "                tweets_f1_scores.append(f1_score(annotation_results[0],list(val_tweets['label'].values),average='macro'))\n",
    "                dev_f1_scores.append(f1_score(dev_results[0],list(val_polemo['label'].values),average='macro'))\n",
    "                print(f\"Loss method - {method}\")\n",
    "                print(f\"Dim - {dim}\")\n",
    "                print(f\"Ngram - {ngram}\")\n",
    "                print(f\"Negative samples - {neg}\")\n",
    "                print(f\"F1-score for all tweets: {tweets_f1_scores[-1]}\")\n",
    "                print(f\"F1-score for dev set: {dev_f1_scores[-1]}\")\n",
    "                print()\n",
    "\n",
    "results = pd.DataFrame(data={\"dim\": dims,\n",
    "                             \"ngram\" : ngrams,\n",
    "                             \"loss\": losses,\n",
    "                             \"neg\": negs,\n",
    "                             \"tweets_f1_score\": tweets_f1_scores,\n",
    "                             \"dev_f1_score\": dev_f1_scores})\n",
    "\n",
    "results.to_csv(os.path.join(\"..\",\"reports\",\"sentiment_classification_results.csv\"))"
   ]
  },
  {
   "cell_type": "code",
   "execution_count": null,
   "metadata": {
    "pycharm": {
     "name": "#%%\n"
    }
   },
   "outputs": [],
   "source": [
    "lrs = []\n",
    "epochs = []\n",
    "tweets_f1_scores = []\n",
    "dev_f1_scores = []\n",
    "for lr in [0.001, 0.005, 0.0001, 0.0005]:\n",
    "    for epoch in [100,250,500,1000]:\n",
    "        model =fasttext.train_supervised(input=os.path.join(PATH_TO_DATASETS, \"sentiment_data\", \"full_train_data.txt\"), wordNgrams=5, neg=5,dim=300, lr=lr, epoch=epoch, loss=\"ns\", verbose=1, label_prefix='__label__')\n",
    "        dev_results = model.predict(list(val_polemo[\"text\"].values))\n",
    "        annotation_results = model.predict(list(val_tweets[\"text\"].values))\n",
    "        lrs.append(lr)\n",
    "        epochs.append(epoch)\n",
    "        tweets_f1_scores.append(f1_score(annotation_results[0],list(val_tweets['label'].values),average='macro'))\n",
    "        dev_f1_scores.append(f1_score(dev_results[0],list(val_polemo['label'].values),average='macro'))\n",
    "        print(f\"Learning rate - {lr}\")\n",
    "        print(f\"Epochs - {epoch}\")\n",
    "        print(f\"F1-score for all tweets: {tweets_f1_scores[-1]}\")\n",
    "        print(f\"F1-score for dev set: {dev_f1_scores[-1]}\")\n",
    "        print()"
   ]
  },
  {
   "cell_type": "code",
   "execution_count": 28,
   "metadata": {
    "pycharm": {
     "name": "#%%\n"
    }
   },
   "outputs": [],
   "source": [
    "lr_epoch_results = pd.DataFrame(data={\"lr\": lrs,\n",
    "                             \"epoch\" : epochs,\n",
    "                             \"tweets_f1_score\": tweets_f1_scores,\n",
    "                             \"dev_f1_score\": dev_f1_scores})\n",
    "\n",
    "lr_epoch_results.to_csv(os.path.join(\"..\",\"reports\",\"sentiment_classification_lr_epoch_results.csv\"), index=False)"
   ]
  },
  {
   "cell_type": "code",
   "execution_count": 8,
   "metadata": {
    "pycharm": {
     "name": "#%%\n"
    }
   },
   "outputs": [],
   "source": [
    "model = fasttext.train_supervised(input=os.path.join(PATH_TO_DATASETS, \"sentiment_data\", \"full_train_data.txt\"), wordNgrams=5, neg=5,dim=300, lr=0.005, epoch=500, loss=\"ns\", verbose=1, label_prefix='__label__')\n",
    "test_results = model.predict(list(test_polemo[\"text\"].values))\n",
    "annotation_results = model.predict(list(test_tweets[\"text\"].values))\n"
   ]
  },
  {
   "cell_type": "code",
   "execution_count": 9,
   "metadata": {
    "pycharm": {
     "name": "#%%\n"
    }
   },
   "outputs": [
    {
     "name": "stdout",
     "output_type": "stream",
     "text": [
      "F1-score for all tweets: 0.42483660130718953\n",
      "F1-score for dev set: 0.6493587265781213\n",
      "\n"
     ]
    }
   ],
   "source": [
    "print(f\"F1-score for all tweets: {f1_score(annotation_results[0],list(test_tweets['label'].values),average='macro')}\")\n",
    "print(f\"F1-score for dev set: {f1_score(test_results[0],list(test_polemo['label'].values),average='macro')}\")\n",
    "print()"
   ]
  },
  {
   "cell_type": "code",
   "execution_count": 10,
   "metadata": {
    "pycharm": {
     "name": "#%%\n"
    }
   },
   "outputs": [
    {
     "name": "stdout",
     "output_type": "stream",
     "text": [
      "Classification report for political tweets\n",
      "                    precision    recall  f1-score   support\n",
      "\n",
      "__label__ambiguous       0.00      0.00      0.00         5\n",
      " __label__negative       0.56      0.58      0.57        24\n",
      "  __label__neutral       0.46      0.65      0.54        26\n",
      " __label__positive       0.69      0.51      0.59        49\n",
      "\n",
      "          accuracy                           0.54       104\n",
      "         macro avg       0.43      0.44      0.42       104\n",
      "      weighted avg       0.57      0.54      0.54       104\n",
      "\n",
      "Classification report for polemo data\n",
      "                    precision    recall  f1-score   support\n",
      "\n",
      "__label__ambiguous       0.55      0.33      0.41       681\n",
      " __label__negative       0.69      0.81      0.74      2123\n",
      "  __label__neutral       0.71      0.70      0.70      1419\n",
      " __label__positive       0.76      0.71      0.74      1522\n",
      "\n",
      "          accuracy                           0.70      5745\n",
      "         macro avg       0.68      0.64      0.65      5745\n",
      "      weighted avg       0.70      0.70      0.69      5745\n",
      "\n"
     ]
    }
   ],
   "source": [
    "print(\"Classification report for political tweets\")\n",
    "print(classification_report(list(test_tweets['label'].values), annotation_results[0]))\n",
    "\n",
    "print(\"Classification report for polemo data\")\n",
    "print(classification_report(list(test_polemo['label'].values), test_results[0]))\n"
   ]
  },
  {
   "cell_type": "code",
   "execution_count": null,
   "metadata": {
    "pycharm": {
     "name": "#%%\n"
    }
   },
   "outputs": [],
   "source": [
    "test_texts = list(test_tweets[\"text\"].values)\n",
    "test_labels = list(test_tweets[\"label\"].values)\n",
    "print(\"Tweets which were incorrrectly predicted:\")\n",
    "for i in range(len(test_texts)):\n",
    "    pred = model.predict([test_texts[i]])\n",
    "    if test_labels[i] != pred[0][0][0]:\n",
    "        print(f\"Tweet text: {test_texts[i]}\")\n",
    "        print(f\"\\t True label: {test_labels[i]}, predicted label: {pred[0][0][0]}, probability: {pred[1][0][0]}\")\n",
    "        print()"
   ]
  }
 ],
 "metadata": {
  "kernelspec": {
   "display_name": "Python 3",
   "language": "python",
   "name": "python3"
  },
  "language_info": {
   "codemirror_mode": {
    "name": "ipython",
    "version": 3
   },
   "file_extension": ".py",
   "mimetype": "text/x-python",
   "name": "python",
   "nbconvert_exporter": "python",
   "pygments_lexer": "ipython3",
   "version": "3.8.2"
  }
 },
 "nbformat": 4,
 "nbformat_minor": 1
}